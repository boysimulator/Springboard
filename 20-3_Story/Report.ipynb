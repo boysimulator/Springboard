{
 "cells": [
  {
   "cell_type": "markdown",
   "id": "5f9925d8-0900-46fa-b170-be65bfeaae5d",
   "metadata": {},
   "source": [
    "# <p style=\"text-align: center;\"> Energy Usage In Our Public Buildings </p>"
   ]
  },
  {
   "cell_type": "markdown",
   "id": "0e512367-3635-422f-9cf8-7b2e2e02c37a",
   "metadata": {},
   "source": [
    "Reducing the operational climate control energy use of our public buildings is a coherent process combat climate change on a mass level. With climate change on the forefront of our minds, it's easy to stop and analyze how we can modify our own habits at home to minimize energy usage and help address the issue: turning the lights off when not in a room, waiting one extra half hour before turning on the air conditioner at home, turning the shower off while lathering with soap... the list goes on. But how many times have you been at home wearing three layers of sweats, shivering under blankets, and wondering, \"Would it really make that much of a difference if I turned up the heat one degree?\" The answer is that it probably doesn't matter much, at least on the individual home level. If your neighbor treats their house like a sauna, there's likely no limited standard of living you can endure to offset their actions.\n",
    "\n",
    "Instead, targeting change at our public institutions offers the opportunity to enact a much more significant energy use reduction. For example, did you know that the central branch of the Boston Public Library consumes as much energy in a year as 854 [average American households](https://www.eia.gov/energyexplained/use-of-energy/electricity-use-in-homes.php)?"
   ]
  },
  {
   "cell_type": "markdown",
   "id": "98269589-d934-471d-b45b-3f63e116eb79",
   "metadata": {
    "tags": []
   },
   "source": [
    "## <p style=\"text-align:center; color:red\">854x more energy use than a house</p>"
   ]
  },
  {
   "cell_type": "markdown",
   "id": "63bfdd62-16ba-4a37-8d5e-5564c4140e84",
   "metadata": {},
   "source": [
    "It's true! The City of Boston has [an awesome data page](https://data.boston.gov/), including a data set of the energy use at the Library's central branch. Parsing through this data shows that the building uses nearly 10 GWh of energy annually, compared to 11 MWh of an average home."
   ]
  },
  {
   "cell_type": "markdown",
   "id": "9a071e69-2ca1-44e9-b47b-474c94f1a188",
   "metadata": {},
   "source": [
    "<p style=\"text-align: center;\"><img src=\"images/boston_data.png\" alt=\"Boston Data\" width=\"800\"/></p>"
   ]
  },
  {
   "cell_type": "markdown",
   "id": "10fd4757-b1cb-4b56-ba0d-f86bc0f7f3a1",
   "metadata": {},
   "source": [
    "Furthermore, Boston doesn't just operate the one library. There are actually 26 libraries throughout the city. This means that if this single institution can be convinced to enact an energy saving measure, such as lowering the heat by one degree to borrow the example from before, it could be equivalent to **22,000 homes** all agreeing to turn down their heat."
   ]
  },
  {
   "cell_type": "markdown",
   "id": "90f7409e-a13c-40fa-9a37-703654aca626",
   "metadata": {},
   "source": [
    "<p style=\"text-align: center;\"><img src=\"images/locations.png\" alt=\"Boston Data\" width=\"800\"/></p>"
   ]
  },
  {
   "cell_type": "markdown",
   "id": "cb11c508-15aa-4bf9-a3a8-268f6a71a1fc",
   "metadata": {},
   "source": [
    "It really is that simple. 2020 offers an excellent case study wherein the library was closed for the majority of the year due to the ongoing global pandemic. Indeed, the energy usage of the building that year was far less than the previous years."
   ]
  },
  {
   "cell_type": "markdown",
   "id": "b39eb077-424a-41cc-b0f1-9c325e8040f8",
   "metadata": {},
   "source": [
    "<p style=\"text-align: center;\"><img src=\"images/annual_energy.png\" alt=\"Annual Energy\" width=\"800\"/></p>"
   ]
  },
  {
   "cell_type": "markdown",
   "id": "ecfeea71-4e72-4810-a59b-09326e7578a0",
   "metadata": {},
   "source": [
    "2020 is a strange year though, and it's hard to say what other anomalies may have produced the low energy usage - it's possible certain sections of the library were shut off completely for weeks on end. So even more compelling is the trend of energy usage each day for all years with the library's [hours](https://www.bpl.org/locations/3/)."
   ]
  },
  {
   "cell_type": "markdown",
   "id": "c9553462-d393-4773-8e30-0ded9640c63a",
   "metadata": {},
   "source": [
    "<p style=\"text-align: center;\"><img src=\"images/daily_energy.png\" alt=\"Daily Energy\" width=\"800\"/></p>"
   ]
  },
  {
   "cell_type": "markdown",
   "id": "ac8a7a4a-4fc6-47f0-aaee-509d7bd1d97f",
   "metadata": {},
   "source": [
    "It's clear that operational hours of the library use the most energy, and we can go deeper and find out what type of energy."
   ]
  },
  {
   "cell_type": "markdown",
   "id": "2fc17614-9187-41d3-9d0f-ede651a5f014",
   "metadata": {},
   "source": [
    "<p style=\"text-align: center;\"><img src=\"images/monthly_energy.png\" alt=\"Monthly Energy\" width=\"800\"/></p>"
   ]
  },
  {
   "cell_type": "markdown",
   "id": "68ac0a35-a21a-406f-92dc-33457c52a8b2",
   "metadata": {},
   "source": [
    "The biggest energy use months are July and August, which are typically the hottest months in Boston. Therefore, it's obvious that the air conditioning system is using the most amount of energy to control the climate during business hours. Interestingly, in Boston, the summer population is smaller due to students from the myriad universities returning home for break, as well as the sun being up longer requiring less lighting. From those reasons we'd think the energy use would go down, but in fact it is the opposite.\n",
    "\n",
    "This makes it obvious that one of the biggest issues plaguing excessive energy use is air conditioning during building occupation. Furthermore, large public institutions with multiple buildings dominate the energy use in our communities. Here, we see that the Boston public library allowing a 2 °F higher temperature in the summer would be equivalent to 22,000 homes doing the same. It's imperative for our climate future to be mindful of all of our actions, but most importantly our public institutions should be pushed to do better."
   ]
  },
  {
   "cell_type": "code",
   "execution_count": null,
   "id": "0cade3c7-f147-4bc2-b601-16d46786f727",
   "metadata": {},
   "outputs": [],
   "source": []
  }
 ],
 "metadata": {
  "kernelspec": {
   "display_name": "Python 3 (ipykernel)",
   "language": "python",
   "name": "python3"
  },
  "language_info": {
   "codemirror_mode": {
    "name": "ipython",
    "version": 3
   },
   "file_extension": ".py",
   "mimetype": "text/x-python",
   "name": "python",
   "nbconvert_exporter": "python",
   "pygments_lexer": "ipython3",
   "version": "3.9.9"
  }
 },
 "nbformat": 4,
 "nbformat_minor": 5
}
