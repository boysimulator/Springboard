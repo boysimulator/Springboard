{
 "cells": [
  {
   "cell_type": "markdown",
   "id": "1f3a30c8-f0ba-40cd-98a7-43b4879d2b02",
   "metadata": {},
   "source": [
    "# Loading Data"
   ]
  },
  {
   "cell_type": "code",
   "execution_count": 1,
   "id": "04ace697-1e25-4f54-a6e5-e4bc73aec41c",
   "metadata": {},
   "outputs": [],
   "source": [
    "import numpy as np\n",
    "import pandas as pd\n",
    "import matplotlib.pyplot as plt\n",
    "import pickle"
   ]
  },
  {
   "cell_type": "code",
   "execution_count": 2,
   "id": "8eb0b2d1-25bf-419b-b23a-b719ffc2dd9f",
   "metadata": {},
   "outputs": [],
   "source": [
    "X_train_path = '../data/processed/X_train.pkl'\n",
    "X_test_path = '../data/processed/X_test.pkl'\n",
    "y_train_path = '../data/processed/y_train.pkl'\n",
    "y_test_path = '../data/processed/y_test.pkl'\n",
    "\n",
    "X_train = pd.read_pickle(X_train_path)\n",
    "X_test = pd.read_pickle(X_test_path)\n",
    "y_train = pd.read_pickle(y_train_path)\n",
    "y_test = pd.read_pickle(y_test_path)"
   ]
  },
  {
   "cell_type": "code",
   "execution_count": 3,
   "id": "cc1573d3-3d76-475f-b749-59a4ae4825e1",
   "metadata": {},
   "outputs": [
    {
     "data": {
      "text/html": [
       "<div>\n",
       "<style scoped>\n",
       "    .dataframe tbody tr th:only-of-type {\n",
       "        vertical-align: middle;\n",
       "    }\n",
       "\n",
       "    .dataframe tbody tr th {\n",
       "        vertical-align: top;\n",
       "    }\n",
       "\n",
       "    .dataframe thead th {\n",
       "        text-align: right;\n",
       "    }\n",
       "</style>\n",
       "<table border=\"1\" class=\"dataframe\">\n",
       "  <thead>\n",
       "    <tr style=\"text-align: right;\">\n",
       "      <th></th>\n",
       "      <th>popularity</th>\n",
       "      <th>acousticness</th>\n",
       "      <th>danceability</th>\n",
       "      <th>duration_ms</th>\n",
       "      <th>energy</th>\n",
       "      <th>instrumentalness</th>\n",
       "      <th>liveness</th>\n",
       "      <th>loudness</th>\n",
       "      <th>speechiness</th>\n",
       "      <th>tempo</th>\n",
       "      <th>...</th>\n",
       "      <th>C</th>\n",
       "      <th>C#</th>\n",
       "      <th>D</th>\n",
       "      <th>D#</th>\n",
       "      <th>E</th>\n",
       "      <th>F</th>\n",
       "      <th>F#</th>\n",
       "      <th>G</th>\n",
       "      <th>G#</th>\n",
       "      <th>Minor</th>\n",
       "    </tr>\n",
       "  </thead>\n",
       "  <tbody>\n",
       "    <tr>\n",
       "      <th>0</th>\n",
       "      <td>0.424242</td>\n",
       "      <td>0.815936</td>\n",
       "      <td>0.640</td>\n",
       "      <td>0.454036</td>\n",
       "      <td>0.478</td>\n",
       "      <td>0.000000</td>\n",
       "      <td>0.405926</td>\n",
       "      <td>0.130257</td>\n",
       "      <td>0.138526</td>\n",
       "      <td>0.461006</td>\n",
       "      <td>...</td>\n",
       "      <td>0.0</td>\n",
       "      <td>0.0</td>\n",
       "      <td>0.0</td>\n",
       "      <td>0.0</td>\n",
       "      <td>0.0</td>\n",
       "      <td>0.0</td>\n",
       "      <td>0.0</td>\n",
       "      <td>0.0</td>\n",
       "      <td>0.0</td>\n",
       "      <td>0.0</td>\n",
       "    </tr>\n",
       "    <tr>\n",
       "      <th>1</th>\n",
       "      <td>0.575758</td>\n",
       "      <td>0.962921</td>\n",
       "      <td>0.610</td>\n",
       "      <td>0.193658</td>\n",
       "      <td>0.283</td>\n",
       "      <td>0.000007</td>\n",
       "      <td>0.817496</td>\n",
       "      <td>0.109134</td>\n",
       "      <td>0.083691</td>\n",
       "      <td>0.353108</td>\n",
       "      <td>...</td>\n",
       "      <td>0.0</td>\n",
       "      <td>0.0</td>\n",
       "      <td>0.0</td>\n",
       "      <td>0.0</td>\n",
       "      <td>0.0</td>\n",
       "      <td>0.0</td>\n",
       "      <td>1.0</td>\n",
       "      <td>0.0</td>\n",
       "      <td>0.0</td>\n",
       "      <td>1.0</td>\n",
       "    </tr>\n",
       "    <tr>\n",
       "      <th>2</th>\n",
       "      <td>0.323232</td>\n",
       "      <td>0.980017</td>\n",
       "      <td>0.183</td>\n",
       "      <td>0.723030</td>\n",
       "      <td>0.232</td>\n",
       "      <td>0.993020</td>\n",
       "      <td>0.736447</td>\n",
       "      <td>0.065039</td>\n",
       "      <td>0.275023</td>\n",
       "      <td>0.268808</td>\n",
       "      <td>...</td>\n",
       "      <td>0.0</td>\n",
       "      <td>0.0</td>\n",
       "      <td>0.0</td>\n",
       "      <td>0.0</td>\n",
       "      <td>0.0</td>\n",
       "      <td>1.0</td>\n",
       "      <td>0.0</td>\n",
       "      <td>0.0</td>\n",
       "      <td>0.0</td>\n",
       "      <td>0.0</td>\n",
       "    </tr>\n",
       "    <tr>\n",
       "      <th>3</th>\n",
       "      <td>0.393939</td>\n",
       "      <td>0.107948</td>\n",
       "      <td>0.365</td>\n",
       "      <td>0.531238</td>\n",
       "      <td>0.413</td>\n",
       "      <td>0.000090</td>\n",
       "      <td>0.461439</td>\n",
       "      <td>0.115869</td>\n",
       "      <td>0.213209</td>\n",
       "      <td>0.409146</td>\n",
       "      <td>...</td>\n",
       "      <td>0.0</td>\n",
       "      <td>0.0</td>\n",
       "      <td>0.0</td>\n",
       "      <td>0.0</td>\n",
       "      <td>0.0</td>\n",
       "      <td>0.0</td>\n",
       "      <td>0.0</td>\n",
       "      <td>0.0</td>\n",
       "      <td>0.0</td>\n",
       "      <td>0.0</td>\n",
       "    </tr>\n",
       "    <tr>\n",
       "      <th>4</th>\n",
       "      <td>0.525253</td>\n",
       "      <td>0.003761</td>\n",
       "      <td>0.305</td>\n",
       "      <td>0.429539</td>\n",
       "      <td>0.965</td>\n",
       "      <td>0.007909</td>\n",
       "      <td>0.839844</td>\n",
       "      <td>0.140167</td>\n",
       "      <td>0.552650</td>\n",
       "      <td>0.304065</td>\n",
       "      <td>...</td>\n",
       "      <td>1.0</td>\n",
       "      <td>0.0</td>\n",
       "      <td>0.0</td>\n",
       "      <td>0.0</td>\n",
       "      <td>0.0</td>\n",
       "      <td>0.0</td>\n",
       "      <td>0.0</td>\n",
       "      <td>0.0</td>\n",
       "      <td>0.0</td>\n",
       "      <td>0.0</td>\n",
       "    </tr>\n",
       "  </tbody>\n",
       "</table>\n",
       "<p>5 rows × 23 columns</p>\n",
       "</div>"
      ],
      "text/plain": [
       "   popularity  acousticness  danceability  duration_ms  energy  \\\n",
       "0    0.424242      0.815936         0.640     0.454036   0.478   \n",
       "1    0.575758      0.962921         0.610     0.193658   0.283   \n",
       "2    0.323232      0.980017         0.183     0.723030   0.232   \n",
       "3    0.393939      0.107948         0.365     0.531238   0.413   \n",
       "4    0.525253      0.003761         0.305     0.429539   0.965   \n",
       "\n",
       "   instrumentalness  liveness  loudness  speechiness     tempo  ...    C   C#  \\\n",
       "0          0.000000  0.405926  0.130257     0.138526  0.461006  ...  0.0  0.0   \n",
       "1          0.000007  0.817496  0.109134     0.083691  0.353108  ...  0.0  0.0   \n",
       "2          0.993020  0.736447  0.065039     0.275023  0.268808  ...  0.0  0.0   \n",
       "3          0.000090  0.461439  0.115869     0.213209  0.409146  ...  0.0  0.0   \n",
       "4          0.007909  0.839844  0.140167     0.552650  0.304065  ...  1.0  0.0   \n",
       "\n",
       "     D   D#    E    F   F#    G   G#  Minor  \n",
       "0  0.0  0.0  0.0  0.0  0.0  0.0  0.0    0.0  \n",
       "1  0.0  0.0  0.0  0.0  1.0  0.0  0.0    1.0  \n",
       "2  0.0  0.0  0.0  1.0  0.0  0.0  0.0    0.0  \n",
       "3  0.0  0.0  0.0  0.0  0.0  0.0  0.0    0.0  \n",
       "4  0.0  0.0  0.0  0.0  0.0  0.0  0.0    0.0  \n",
       "\n",
       "[5 rows x 23 columns]"
      ]
     },
     "execution_count": 3,
     "metadata": {},
     "output_type": "execute_result"
    }
   ],
   "source": [
    "X_train.head()"
   ]
  },
  {
   "cell_type": "markdown",
   "id": "42ed48f5-f811-4a07-b5e0-22e68f227cc5",
   "metadata": {},
   "source": [
    "# Choosing the Model\n",
    "\n",
    "It can generally be observed that accuracy can increase most moving from algorithm to algorithm, for example +10% accuracy switching from K Nearest Neighbors to Random Forest, but that hyperparameter tuning yields smaller gains. Therefore, our procedure will be to pick the algorithm with default arguments, then fine tune the hyperparameters. Furthermore, this is a multiclass supervised learning problem, as the target data represents 10 genres of music. Therefore, we will pick our selection of algorithms to test from the [list of multiclass classifiers in scikit-learn](https://scikit-learn.org/stable/modules/multiclass.html). That said, it's import to be judicious in selecting an algorithm from this list, first because it will take too long if we try all of them, but secondly because our data is not appropriate for each classifier: [for example a Bernoulli Naive Bayes classifier requires feature vectors to be binary](https://scikit-learn.org/stable/modules/naive_bayes.html#bernoulli-naive-bayes)."
   ]
  },
  {
   "cell_type": "code",
   "execution_count": 4,
   "id": "379f150b-dbe9-4755-bb72-9ca42b13950b",
   "metadata": {},
   "outputs": [],
   "source": [
    "from sklearn.neighbors import KNeighborsClassifier\n",
    "from sklearn.neighbors import RadiusNeighborsClassifier\n",
    "from sklearn.discriminant_analysis import LinearDiscriminantAnalysis\n",
    "from sklearn.discriminant_analysis import QuadraticDiscriminantAnalysis\n",
    "from sklearn.svm import LinearSVC\n",
    "from sklearn.linear_model import LogisticRegression\n",
    "from sklearn.linear_model import RidgeClassifier\n",
    "from sklearn.neural_network import MLPClassifier\n",
    "from sklearn.ensemble import RandomForestClassifier\n",
    "from sklearn.ensemble import GradientBoostingClassifier"
   ]
  },
  {
   "cell_type": "code",
   "execution_count": 5,
   "id": "fdec970b-44cd-45c0-ba19-e683d2970fff",
   "metadata": {},
   "outputs": [],
   "source": [
    "# written in a way to easily comment out a classifer if it gives trouble with the data\n",
    "models = list()\n",
    "models.append(('KNN', KNeighborsClassifier(n_jobs=-1)))\n",
    "models.append(('RNC', RadiusNeighborsClassifier(n_jobs=-1)))\n",
    "models.append(('LDA', LinearDiscriminantAnalysis()))\n",
    "models.append(('QDA', QuadraticDiscriminantAnalysis()))\n",
    "models.append(('LSVC', LinearSVC()))\n",
    "#models.append(('LR', LogisticRegression(n_jobs=-1)))\n",
    "models.append(('RC', RidgeClassifier()))\n",
    "#models.append(('MLPC', MLPClassifier()))\n",
    "models.append(('RFC', RandomForestClassifier(n_jobs=-1)))\n",
    "models.append(('GBC', GradientBoostingClassifier()))"
   ]
  },
  {
   "cell_type": "code",
   "execution_count": 6,
   "id": "f2e5c8a2-2430-41ca-aa5b-0276ce20e864",
   "metadata": {},
   "outputs": [],
   "source": [
    "from sklearn.model_selection import cross_validate\n",
    "scores = list()    "
   ]
  },
  {
   "cell_type": "code",
   "execution_count": 7,
   "id": "7f3bdd72-c297-4534-abd8-4ffd49407eb1",
   "metadata": {},
   "outputs": [],
   "source": [
    "for model in models:\n",
    "    cv_results = cross_validate(model[1], X_train, y_train, cv=10, n_jobs=-1)\n",
    "    scores.append((model[0], cv_results['test_score']))"
   ]
  },
  {
   "cell_type": "code",
   "execution_count": 8,
   "id": "07e19cde-d61f-4811-aa9f-d2d33c021672",
   "metadata": {},
   "outputs": [
    {
     "data": {
      "image/png": "[encoded data removed]",
      "text/plain": [
       "<Figure size 1080x720 with 1 Axes>"
      ]
     },
     "metadata": {
      "needs_background": "light"
     },
     "output_type": "display_data"
    }
   ],
   "source": [
    "scores = list(zip(*scores))\n",
    "fig = plt.figure(figsize =(15, 10))\n",
    "ax = fig.add_subplot(111)\n",
    "bp = ax.boxplot(scores[1], labels=scores[0])\n",
    "ax.set_xlabel('Classifier')\n",
    "ax.set_ylabel('Accuracy Score')\n",
    "ax.set_title('Classifier Performance')\n",
    "plt.show()"
   ]
  },
  {
   "cell_type": "markdown",
   "id": "32decbf5-d198-48b2-978e-43584ab30a88",
   "metadata": {},
   "source": [
    "# Finding the hyperparameters"
   ]
  },
  {
   "cell_type": "markdown",
   "id": "40c5d78f-ee03-49b1-92d1-b9873baf45b5",
   "metadata": {},
   "source": [
    "Looks like our Gradient Boosting Classifier performed the best. Now it's time to tune the hyper parameters for more gain."
   ]
  },
  {
   "cell_type": "code",
   "execution_count": 9,
   "id": "7c89d9e8-bbb7-45fa-9855-70aae1ae4d4d",
   "metadata": {},
   "outputs": [],
   "source": [
    "from sklearn.model_selection import GridSearchCV"
   ]
  },
  {
   "cell_type": "code",
   "execution_count": 10,
   "id": "0a3117a5-0bea-4406-9f55-87b2635a2166",
   "metadata": {},
   "outputs": [],
   "source": [
    "param_grid = {'learning_rate': [0.01, 0.1],\n",
    "              'n_estimators': [100, 400],\n",
    "              'criterion': ['friedman_mse', 'squared_error'],\n",
    "              'max_depth': np.arange(3, 12, 3),\n",
    "              'max_features': ['sqrt', None]}"
   ]
  },
  {
   "cell_type": "code",
   "execution_count": 11,
   "id": "79c68099-cc3d-40aa-8e93-f5fc0bffc377",
   "metadata": {},
   "outputs": [],
   "source": [
    "GBC = GradientBoostingClassifier()\n",
    "clf = GridSearchCV(GBC, param_grid=param_grid, n_jobs=-1, cv=5)"
   ]
  },
  {
   "cell_type": "code",
   "execution_count": 12,
   "id": "7b8d37f0-ebdc-42af-927f-dc1f0ac2c48e",
   "metadata": {},
   "outputs": [
    {
     "data": {
      "text/plain": [
       "GridSearchCV(cv=5, estimator=GradientBoostingClassifier(), n_jobs=-1,\n",
       "             param_grid={'criterion': ['friedman_mse', 'squared_error'],\n",
       "                         'learning_rate': [0.01, 0.1],\n",
       "                         'max_depth': array([3, 6, 9]),\n",
       "                         'max_features': ['sqrt', None],\n",
       "                         'n_estimators': [100, 400]})"
      ]
     },
     "execution_count": 12,
     "metadata": {},
     "output_type": "execute_result"
    }
   ],
   "source": [
    "clf.fit(X_train, y_train)"
   ]
  },
  {
   "cell_type": "code",
   "execution_count": 13,
   "id": "7d2d793e-859d-4caf-80df-c323017acfa4",
   "metadata": {},
   "outputs": [
    {
     "data": {
      "text/plain": [
       "{'criterion': 'friedman_mse',\n",
       " 'learning_rate': 0.1,\n",
       " 'max_depth': 3,\n",
       " 'max_features': 'sqrt',\n",
       " 'n_estimators': 400}"
      ]
     },
     "execution_count": 13,
     "metadata": {},
     "output_type": "execute_result"
    }
   ],
   "source": [
    "clf.best_params_"
   ]
  },
  {
   "cell_type": "code",
   "execution_count": 14,
   "id": "4379aff5-47cc-47a1-b308-5d85aa7af3e5",
   "metadata": {},
   "outputs": [
    {
     "data": {
      "text/plain": [
       "0.5842666666666667"
      ]
     },
     "execution_count": 14,
     "metadata": {},
     "output_type": "execute_result"
    }
   ],
   "source": [
    "clf.best_score_"
   ]
  },
  {
   "cell_type": "markdown",
   "id": "05549190-6052-4f0f-b0a5-21d6e626d9cf",
   "metadata": {},
   "source": [
    "# Fitting the model"
   ]
  },
  {
   "cell_type": "code",
   "execution_count": 15,
   "id": "5168d8dc-4645-42f9-a14b-1691a1bd4196",
   "metadata": {},
   "outputs": [],
   "source": [
    "model = GradientBoostingClassifier(criterion='friedman_mse', learning_rate=0.1, max_depth=3, \\\n",
    "                                      max_features='sqrt', n_estimators=400).fit(X_train, y_train)"
   ]
  },
  {
   "cell_type": "markdown",
   "id": "8956e3b6-9613-478b-8490-842c68d2c5ff",
   "metadata": {},
   "source": [
    "# Evaluating the model"
   ]
  },
  {
   "cell_type": "code",
   "execution_count": 17,
   "id": "850f1606-1c45-4d5a-86a9-ceb0070bc9d7",
   "metadata": {},
   "outputs": [
    {
     "name": "stdout",
     "output_type": "stream",
     "text": [
      "0.49048\n"
     ]
    }
   ],
   "source": [
    "print(model.score(X_test, y_test))"
   ]
  },
  {
   "cell_type": "code",
   "execution_count": 18,
   "id": "2756f2aa-6a81-41c3-8394-61ae02e87714",
   "metadata": {},
   "outputs": [],
   "source": [
    "y_pred = model.predict(X_test)"
   ]
  },
  {
   "cell_type": "code",
   "execution_count": 34,
   "id": "59415b50-5456-4789-89a0-77b348e31d6d",
   "metadata": {},
   "outputs": [
    {
     "data": {
      "image/png": "[encoded data removed]",
      "text/plain": [
       "<Figure size 936x936 with 2 Axes>"
      ]
     },
     "metadata": {
      "needs_background": "light"
     },
     "output_type": "display_data"
    }
   ],
   "source": [
    "from sklearn.metrics import confusion_matrix\n",
    "from sklearn.metrics import ConfusionMatrixDisplay\n",
    "cm = confusion_matrix(y_test,y_pred)\n",
    "disp = ConfusionMatrixDisplay(confusion_matrix=cm)\n",
    "fig, ax = plt.subplots(figsize=(13,13))\n",
    "disp.plot(ax=ax)\n",
    "plt.tick_params(axis=u'both', which=u'both', length=0)\n",
    "plt.xticks(ticks=range(0, 10), labels=model.classes_, rotation=90)\n",
    "plt.yticks(ticks=range(0, 10), labels=model.classes_)\n",
    "plt.grid(False)\n",
    "plt.show()"
   ]
  },
  {
   "cell_type": "markdown",
   "id": "54518aa4-ddcf-4fc5-b645-f2b17946242a",
   "metadata": {},
   "source": [
    "# Reviewing the model\n",
    "\n",
    "Going into a data set, it's not always clear what model to use. In this notebook, several models that can handle multilabel classification were chosen. From that set, a neural net MLP classifier and a logistic regression classifer were not used, because they require standardization which was not applied to this data set. Therefore, 8 models with default arguments were selected from scikit-learn for ranking. The data set features an equal distribution of labels, so accuracy was chosen as the scoring metric. Of the 8, the GradientBoostClassifier scored the highest, so this model was sent on to hyperparameter tuning. Once the highest scoring hyperparameters were found, they were used to create a new model which was fit to the entire training data set.\n",
    "\n",
    "This final model achieved an accuracy of 49% on the test set, which is a large improvement over the 10% accuracy expected if observations were randomly assigned a label. Looking to the confusion matrix, it can be seen that certain musical genre labels can be predicted pretty well, such as Anime, Classical, and Electronic. The Anime label has a low precision, however: Blues, Classical, and Country are often wrongly predicted as Anime. This makes sense, because as a genre Anime is a soundtrack, meaning it can borrow from many other genres. At the other end of the spectrum, Country is predicted poorly. However, True Country gets misinterpreted as Alternative, Anime, and Rock quite often, and one would probably agree that in reality Country songs can be ALternative and Rock sounding. Lastly, there is poor differentiation between Rap and Hip-Hop, but these are two very similar genres with a lot of speechiness.\n",
    "\n",
    "Thinking about a use case for this model, two possibilities come to mind. First, a user could input values for the type of music they want to hear into \"accousticness\", \"danceability\", etc., and be served a genre or song from a genre to listen to. Second, an app could suggest more similar music based on the currently playing song, and again pick a new song from within the genre or from genres that \"bleed into\" the first genre. In both cases, a listener may not notice interchange between Hip-Hop and Rap or Rock, Country, and Alternative, but would notice if randomly given a classical song. Fortunately, this model does a good job of this.\n",
    "\n",
    "All in all, this model works pretty well, but of course there is a large margin of improvement from 49 - 100% accuracy. Future work may benefit from better feature engineering such as combined features. Standardization would open up the possibility of more model families to try, and may also have an inherent benefit. As seen in the EDA step, there is a large overlap between classes, so perhaps PCA would be a wise transformation to achieve better separation between the classes. There may also be better hyperparameters, and a better approach would use a method that is faster than GridSearchCV to cover a wider set of choices. These may be investigated at a later date.\n",
    "\n",
    "Lastly, Gradient Boost is a fairly slow and complex model, and may not run on a small portable device meant for playing music. Especially considering the need to retrain regularly to keep up with the growing trends of genres as new music is released. A future project might try to fit the second highest scoring Random Forest instead, even at the penalty of some accuracy if it can do more in real time."
   ]
  },
  {
   "cell_type": "markdown",
   "id": "e9e56ffc-dd8f-46db-b4d9-59ce4186b7a3",
   "metadata": {},
   "source": [
    "# Saving the data"
   ]
  },
  {
   "cell_type": "code",
   "execution_count": 37,
   "id": "6d77338b-0737-4494-800e-d1d3de8d211b",
   "metadata": {},
   "outputs": [],
   "source": [
    "clf_path = '../models/GBC_model_GridSearchCV.pkl'\n",
    "model_path = '../models/GBC_model.pkl'\n",
    "y_pred_path = '../data/processed/y_pred.pkl'\n",
    "\n",
    "with open(model_path, 'wb') as handle:\n",
    "    pickle.dump(model, handle, protocol=pickle.HIGHEST_PROTOCOL)\n",
    "with open(clf_path, 'wb') as handle:\n",
    "    pickle.dump(clf, handle, protocol=pickle.HIGHEST_PROTOCOL)\n",
    "with open(y_pred_path, 'wb') as handle:\n",
    "    pickle.dump(y_pred, handle, protocol=pickle.HIGHEST_PROTOCOL)"
   ]
  },
  {
   "cell_type": "code",
   "execution_count": null,
   "id": "4dbe97b9-5178-44fd-a442-dfcaf8471747",
   "metadata": {},
   "outputs": [],
   "source": []
  }
 ],
 "metadata": {
  "kernelspec": {
   "display_name": "Python 3 (ipykernel)",
   "language": "python",
   "name": "python3"
  },
  "language_info": {
   "codemirror_mode": {
    "name": "ipython",
    "version": 3
   },
   "file_extension": ".py",
   "mimetype": "text/x-python",
   "name": "python",
   "nbconvert_exporter": "python",
   "pygments_lexer": "ipython3",
   "version": "3.9.9"
  }
 },
 "nbformat": 4,
 "nbformat_minor": 5
}
