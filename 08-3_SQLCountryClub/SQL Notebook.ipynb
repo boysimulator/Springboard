{
 "cells": [
  {
   "cell_type": "markdown",
   "id": "ac14f124",
   "metadata": {},
   "source": [
    "Import sqlite3 and establish a connection."
   ]
  },
  {
   "cell_type": "code",
   "execution_count": 1,
   "id": "4bbe3025",
   "metadata": {},
   "outputs": [],
   "source": [
    "import sqlite3\n",
    "con = sqlite3.connect('sqlite_db_pythonsqlite.db')\n",
    "cur = con.cursor()"
   ]
  },
  {
   "cell_type": "markdown",
   "id": "63a45d21",
   "metadata": {},
   "source": [
    "Test to see if it works."
   ]
  },
  {
   "cell_type": "code",
   "execution_count": 2,
   "id": "6754209f",
   "metadata": {},
   "outputs": [
    {
     "name": "stdout",
     "output_type": "stream",
     "text": [
      "(0, 'Tennis Court 1', 5, 25, 10000, 200)\n",
      "(1, 'Tennis Court 2', 5, 25, 8000, 200)\n",
      "(2, 'Badminton Court', 0, 15.5, 4000, 50)\n",
      "(3, 'Table Tennis', 0, 5, 320, 10)\n",
      "(4, 'Massage Room 1', 9.9, 80, 4000, 3000)\n",
      "(5, 'Massage Room 2', 9.9, 80, 4000, 3000)\n",
      "(6, 'Squash Court', 3.5, 17.5, 5000, 80)\n",
      "(7, 'Snooker Table', 0, 5, 450, 15)\n",
      "(8, 'Pool Table', 0, 5, 400, 15)\n"
     ]
    }
   ],
   "source": [
    "for row in cur.execute('SELECT * FROM Facilities;'):\n",
    "    print(row)"
   ]
  },
  {
   "cell_type": "markdown",
   "id": "2f647601",
   "metadata": {},
   "source": [
    "# Questions"
   ]
  },
  {
   "cell_type": "markdown",
   "id": "1fada941",
   "metadata": {},
   "source": [
    "## Q10:\n",
    "Produce a list of facilities with a total revenue less than 1000. The output of facility name and total revenue, sorted by revenue. Remember that there's a different cost for guests and members!"
   ]
  },
  {
   "cell_type": "code",
   "execution_count": 3,
   "id": "66fb5c94",
   "metadata": {},
   "outputs": [
    {
     "name": "stdout",
     "output_type": "stream",
     "text": [
      "('Table Tennis', 180.0)\n",
      "('Snooker Table', 240.0)\n",
      "('Pool Table', 270.0)\n"
     ]
    }
   ],
   "source": [
    "for row in cur.execute(\"\"\"\n",
    "    SELECT facility, revenue\n",
    "    FROM\n",
    "        (SELECT facility, ROUND(SUM(cost), 2) AS revenue\n",
    "        FROM\n",
    "            (SELECT f.name AS facility,\n",
    "                CASE WHEN m.memid = 0 THEN guestcost * slots\n",
    "                ELSE membercost * slots\n",
    "                END AS cost\n",
    "            FROM Bookings AS b\n",
    "                LEFT JOIN Facilities AS f\n",
    "                ON b.facid = f.facid\n",
    "                LEFT JOIN Members AS m\n",
    "                ON b.memid = m.memid\n",
    "            ) AS s1\n",
    "        GROUP BY facility) AS s2\n",
    "    WHERE revenue < 1000\n",
    "    ORDER BY revenue;\n",
    "    \"\"\"):\n",
    "    print(row)"
   ]
  },
  {
   "cell_type": "markdown",
   "id": "1c571859",
   "metadata": {},
   "source": [
    "## Q11:\n",
    "Produce a report of members and who recommended them in alphabetic surname,firstname order"
   ]
  },
  {
   "cell_type": "code",
   "execution_count": 4,
   "id": "f551aae8",
   "metadata": {},
   "outputs": [
    {
     "name": "stdout",
     "output_type": "stream",
     "text": [
      "('Bader, Florence', 'Stibbons, Ponder')\n",
      "('Baker, Anne', 'Stibbons, Ponder')\n",
      "('Baker, Timothy', 'Farrell, Jemima')\n",
      "('Boothe, Tim', 'Rownam, Tim')\n",
      "('Butters, Gerald', 'Smith, Darren')\n",
      "('Coplin, Joan', 'Baker, Timothy')\n",
      "('Crumpet, Erica', 'Smith, Tracy')\n",
      "('Dare, Nancy', 'Joplette, Janice')\n",
      "('Genting, Matthew', 'Butters, Gerald')\n",
      "('Hunt, John', 'Purview, Millicent')\n",
      "('Jones, David', 'Joplette, Janice')\n",
      "('Jones, Douglas', 'Jones, David')\n",
      "('Joplette, Janice', 'Smith, Darren')\n",
      "('Mackenzie, Anna', 'Smith, Darren')\n",
      "('Owen, Charles', 'Smith, Darren')\n",
      "('Pinker, David', 'Farrell, Jemima')\n",
      "('Purview, Millicent', 'Smith, Tracy')\n",
      "('Rumney, Henrietta', 'Genting, Matthew')\n",
      "('Sarwin, Ramnaresh', 'Bader, Florence')\n",
      "('Smith, Jack', 'Smith, Darren')\n",
      "('Stibbons, Ponder', 'Tracy, Burton')\n",
      "('Worthington-Smyth, Henry', 'Smith, Tracy')\n"
     ]
    }
   ],
   "source": [
    "for row in cur.execute(\"\"\"\n",
    "    SELECT m1.surname || ', ' || m1.firstname AS member, m2.surname || ', ' || m2.firstname AS recommender\n",
    "    FROM Members AS m1\n",
    "        INNER JOIN Members AS m2\n",
    "        ON m1.recommendedby = m2.memid\n",
    "    ORDER BY member;\n",
    "    \"\"\"):\n",
    "    print(row)"
   ]
  },
  {
   "cell_type": "markdown",
   "id": "fb6c767d",
   "metadata": {},
   "source": [
    "## Q12:\n",
    "Find the facilities with their usage by member, but not guests"
   ]
  },
  {
   "cell_type": "code",
   "execution_count": 11,
   "id": "a5269d6d",
   "metadata": {},
   "outputs": [
    {
     "name": "stdout",
     "output_type": "stream",
     "text": [
      "('Badminton Court', 1086)\n",
      "('Massage Room 1', 884)\n",
      "('Massage Room 2', 54)\n",
      "('Pool Table', 856)\n",
      "('Snooker Table', 860)\n",
      "('Squash Court', 418)\n",
      "('Table Tennis', 794)\n",
      "('Tennis Court 1', 957)\n",
      "('Tennis Court 2', 882)\n"
     ]
    }
   ],
   "source": [
    "for row in cur.execute(\"\"\"\n",
    "    SELECT s.facility, SUM(s.members) AS usage\n",
    "    FROM\n",
    "        (SELECT f.name AS facility,\n",
    "            CASE WHEN b.memid != 0 THEN slots\n",
    "            ELSE 0\n",
    "            END AS members\n",
    "        FROM Bookings AS b\n",
    "            LEFT JOIN Facilities AS f\n",
    "            ON b.facid = f.facid) AS s\n",
    "    GROUP BY s.facility\n",
    "    ORDER BY s.facility;\n",
    "    \"\"\"):\n",
    "    print(row)"
   ]
  },
  {
   "cell_type": "markdown",
   "id": "578c0709",
   "metadata": {},
   "source": [
    "## Q13:\n",
    "Find the facilities usage by month, but not guests"
   ]
  },
  {
   "cell_type": "code",
   "execution_count": 15,
   "id": "a187555c",
   "metadata": {},
   "outputs": [
    {
     "name": "stdout",
     "output_type": "stream",
     "text": [
      "('Badminton Court', '07', 165)\n",
      "('Badminton Court', '08', 414)\n",
      "('Badminton Court', '09', 507)\n",
      "('Massage Room 1', '07', 166)\n",
      "('Massage Room 1', '08', 316)\n",
      "('Massage Room 1', '09', 402)\n",
      "('Massage Room 2', '07', 8)\n",
      "('Massage Room 2', '08', 18)\n",
      "('Massage Room 2', '09', 28)\n",
      "('Pool Table', '07', 110)\n",
      "('Pool Table', '08', 303)\n",
      "('Pool Table', '09', 443)\n",
      "('Snooker Table', '07', 140)\n",
      "('Snooker Table', '08', 316)\n",
      "('Snooker Table', '09', 404)\n",
      "('Squash Court', '07', 50)\n",
      "('Squash Court', '08', 184)\n",
      "('Squash Court', '09', 184)\n",
      "('Table Tennis', '07', 98)\n",
      "('Table Tennis', '08', 296)\n",
      "('Table Tennis', '09', 400)\n",
      "('Tennis Court 1', '07', 201)\n",
      "('Tennis Court 1', '08', 339)\n",
      "('Tennis Court 1', '09', 417)\n",
      "('Tennis Court 2', '07', 123)\n",
      "('Tennis Court 2', '08', 345)\n",
      "('Tennis Court 2', '09', 414)\n"
     ]
    }
   ],
   "source": [
    "for row in cur.execute(\"\"\"\n",
    "    SELECT s.facility, s.month, SUM(s.members) AS usage\n",
    "    FROM\n",
    "        (SELECT f.name AS facility, strftime('%m', starttime) AS month,\n",
    "            CASE WHEN b.memid != 0 THEN slots\n",
    "            ELSE 0\n",
    "            END AS members\n",
    "        FROM Bookings AS b\n",
    "            LEFT JOIN Facilities AS f\n",
    "            ON b.facid = f.facid) AS s\n",
    "    GROUP BY s.facility, s.month\n",
    "    ORDER BY s.facility, s.month;\n",
    "    \"\"\"):\n",
    "    print(row)"
   ]
  },
  {
   "cell_type": "code",
   "execution_count": null,
   "id": "7a6140a3",
   "metadata": {},
   "outputs": [],
   "source": []
  }
 ],
 "metadata": {
  "kernelspec": {
   "display_name": "Python 3",
   "language": "python",
   "name": "python3"
  },
  "language_info": {
   "codemirror_mode": {
    "name": "ipython",
    "version": 3
   },
   "file_extension": ".py",
   "mimetype": "text/x-python",
   "name": "python",
   "nbconvert_exporter": "python",
   "pygments_lexer": "ipython3",
   "version": "3.8.8"
  }
 },
 "nbformat": 4,
 "nbformat_minor": 5
}
