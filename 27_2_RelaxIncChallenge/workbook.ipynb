{
 "cells": [
  {
   "cell_type": "markdown",
   "id": "8d0c1964-22c7-484c-90ae-179b72f3d971",
   "metadata": {},
   "source": [
    "# Imports"
   ]
  },
  {
   "cell_type": "code",
   "execution_count": 1,
   "id": "3bb52235-d62a-4908-b5a6-501d60315bb5",
   "metadata": {},
   "outputs": [],
   "source": [
    "import os\n",
    "\n",
    "import numpy as np\n",
    "import pandas as pd\n",
    "import matplotlib.pyplot as plt"
   ]
  },
  {
   "cell_type": "markdown",
   "id": "53890787-b283-4602-8fc3-da64d7cb3d68",
   "metadata": {},
   "source": [
    "Load in the data and take a look at it."
   ]
  },
  {
   "cell_type": "code",
   "execution_count": 2,
   "id": "9ccbfea4-a321-4347-93b1-aa1432dae4d4",
   "metadata": {},
   "outputs": [
    {
     "name": "stdout",
     "output_type": "stream",
     "text": [
      "boxplot.png                      takehome_user_engagement.csv\n",
      "confusion_matrix.png             takehome_users.csv\n",
      "relax_data_science_challenge.pdf workbook.ipynb\n"
     ]
    }
   ],
   "source": [
    "!ls"
   ]
  },
  {
   "cell_type": "code",
   "execution_count": 3,
   "id": "5d6dc2d8-10e8-4a4b-9cad-414c35b27723",
   "metadata": {},
   "outputs": [
    {
     "data": {
      "text/plain": [
       "['confusion_matrix.png',\n",
       " '.DS_Store',\n",
       " 'takehome_users.csv',\n",
       " 'relax_data_science_challenge.pdf',\n",
       " 'workbook.ipynb',\n",
       " 'boxplot.png',\n",
       " '.ipynb_checkpoints',\n",
       " 'takehome_user_engagement.csv']"
      ]
     },
     "execution_count": 3,
     "metadata": {},
     "output_type": "execute_result"
    }
   ],
   "source": [
    "filenames = os.listdir()\n",
    "filenames"
   ]
  },
  {
   "cell_type": "code",
   "execution_count": 4,
   "id": "ca81c4cc-4d85-419f-b11f-b2a9f68cd726",
   "metadata": {},
   "outputs": [
    {
     "name": "stdout",
     "output_type": "stream",
     "text": [
      "<_io.TextIOWrapper name='takehome_users.csv' mode='r' encoding='UTF-8'>\n"
     ]
    }
   ],
   "source": [
    "with open('takehome_users.csv') as f:\n",
    "    print(f)"
   ]
  },
  {
   "cell_type": "code",
   "execution_count": 5,
   "id": "4c3fb8df-28b8-48de-8d37-73db093a2dae",
   "metadata": {},
   "outputs": [],
   "source": [
    "users_df = pd.read_csv('takehome_users.csv', encoding='latin-1')\n",
    "# don't know why encoding seems like it's UTF-8, but is really latin-1"
   ]
  },
  {
   "cell_type": "code",
   "execution_count": 6,
   "id": "d41f61d4-6791-4a7e-b2b7-eb4b84d9471d",
   "metadata": {},
   "outputs": [
    {
     "data": {
      "text/html": [
       "<div>\n",
       "<style scoped>\n",
       "    .dataframe tbody tr th:only-of-type {\n",
       "        vertical-align: middle;\n",
       "    }\n",
       "\n",
       "    .dataframe tbody tr th {\n",
       "        vertical-align: top;\n",
       "    }\n",
       "\n",
       "    .dataframe thead th {\n",
       "        text-align: right;\n",
       "    }\n",
       "</style>\n",
       "<table border=\"1\" class=\"dataframe\">\n",
       "  <thead>\n",
       "    <tr style=\"text-align: right;\">\n",
       "      <th></th>\n",
       "      <th>object_id</th>\n",
       "      <th>creation_time</th>\n",
       "      <th>name</th>\n",
       "      <th>email</th>\n",
       "      <th>creation_source</th>\n",
       "      <th>last_session_creation_time</th>\n",
       "      <th>opted_in_to_mailing_list</th>\n",
       "      <th>enabled_for_marketing_drip</th>\n",
       "      <th>org_id</th>\n",
       "      <th>invited_by_user_id</th>\n",
       "    </tr>\n",
       "  </thead>\n",
       "  <tbody>\n",
       "    <tr>\n",
       "      <th>0</th>\n",
       "      <td>1</td>\n",
       "      <td>2014-04-22 03:53:30</td>\n",
       "      <td>Clausen August</td>\n",
       "      <td>AugustCClausen@yahoo.com</td>\n",
       "      <td>GUEST_INVITE</td>\n",
       "      <td>1.398139e+09</td>\n",
       "      <td>1</td>\n",
       "      <td>0</td>\n",
       "      <td>11</td>\n",
       "      <td>10803.0</td>\n",
       "    </tr>\n",
       "    <tr>\n",
       "      <th>1</th>\n",
       "      <td>2</td>\n",
       "      <td>2013-11-15 03:45:04</td>\n",
       "      <td>Poole Matthew</td>\n",
       "      <td>MatthewPoole@gustr.com</td>\n",
       "      <td>ORG_INVITE</td>\n",
       "      <td>1.396238e+09</td>\n",
       "      <td>0</td>\n",
       "      <td>0</td>\n",
       "      <td>1</td>\n",
       "      <td>316.0</td>\n",
       "    </tr>\n",
       "    <tr>\n",
       "      <th>2</th>\n",
       "      <td>3</td>\n",
       "      <td>2013-03-19 23:14:52</td>\n",
       "      <td>Bottrill Mitchell</td>\n",
       "      <td>MitchellBottrill@gustr.com</td>\n",
       "      <td>ORG_INVITE</td>\n",
       "      <td>1.363735e+09</td>\n",
       "      <td>0</td>\n",
       "      <td>0</td>\n",
       "      <td>94</td>\n",
       "      <td>1525.0</td>\n",
       "    </tr>\n",
       "    <tr>\n",
       "      <th>3</th>\n",
       "      <td>4</td>\n",
       "      <td>2013-05-21 08:09:28</td>\n",
       "      <td>Clausen Nicklas</td>\n",
       "      <td>NicklasSClausen@yahoo.com</td>\n",
       "      <td>GUEST_INVITE</td>\n",
       "      <td>1.369210e+09</td>\n",
       "      <td>0</td>\n",
       "      <td>0</td>\n",
       "      <td>1</td>\n",
       "      <td>5151.0</td>\n",
       "    </tr>\n",
       "    <tr>\n",
       "      <th>4</th>\n",
       "      <td>5</td>\n",
       "      <td>2013-01-17 10:14:20</td>\n",
       "      <td>Raw Grace</td>\n",
       "      <td>GraceRaw@yahoo.com</td>\n",
       "      <td>GUEST_INVITE</td>\n",
       "      <td>1.358850e+09</td>\n",
       "      <td>0</td>\n",
       "      <td>0</td>\n",
       "      <td>193</td>\n",
       "      <td>5240.0</td>\n",
       "    </tr>\n",
       "    <tr>\n",
       "      <th>...</th>\n",
       "      <td>...</td>\n",
       "      <td>...</td>\n",
       "      <td>...</td>\n",
       "      <td>...</td>\n",
       "      <td>...</td>\n",
       "      <td>...</td>\n",
       "      <td>...</td>\n",
       "      <td>...</td>\n",
       "      <td>...</td>\n",
       "      <td>...</td>\n",
       "    </tr>\n",
       "    <tr>\n",
       "      <th>11995</th>\n",
       "      <td>11996</td>\n",
       "      <td>2013-09-06 06:14:15</td>\n",
       "      <td>Meier Sophia</td>\n",
       "      <td>SophiaMeier@gustr.com</td>\n",
       "      <td>ORG_INVITE</td>\n",
       "      <td>1.378448e+09</td>\n",
       "      <td>0</td>\n",
       "      <td>0</td>\n",
       "      <td>89</td>\n",
       "      <td>8263.0</td>\n",
       "    </tr>\n",
       "    <tr>\n",
       "      <th>11996</th>\n",
       "      <td>11997</td>\n",
       "      <td>2013-01-10 18:28:37</td>\n",
       "      <td>Fisher Amelie</td>\n",
       "      <td>AmelieFisher@gmail.com</td>\n",
       "      <td>SIGNUP_GOOGLE_AUTH</td>\n",
       "      <td>1.358275e+09</td>\n",
       "      <td>0</td>\n",
       "      <td>0</td>\n",
       "      <td>200</td>\n",
       "      <td>NaN</td>\n",
       "    </tr>\n",
       "    <tr>\n",
       "      <th>11997</th>\n",
       "      <td>11998</td>\n",
       "      <td>2014-04-27 12:45:16</td>\n",
       "      <td>Haynes Jake</td>\n",
       "      <td>JakeHaynes@cuvox.de</td>\n",
       "      <td>GUEST_INVITE</td>\n",
       "      <td>1.398603e+09</td>\n",
       "      <td>1</td>\n",
       "      <td>1</td>\n",
       "      <td>83</td>\n",
       "      <td>8074.0</td>\n",
       "    </tr>\n",
       "    <tr>\n",
       "      <th>11998</th>\n",
       "      <td>11999</td>\n",
       "      <td>2012-05-31 11:55:59</td>\n",
       "      <td>Faber Annett</td>\n",
       "      <td>mhaerzxp@iuxiw.com</td>\n",
       "      <td>PERSONAL_PROJECTS</td>\n",
       "      <td>1.338638e+09</td>\n",
       "      <td>0</td>\n",
       "      <td>0</td>\n",
       "      <td>6</td>\n",
       "      <td>NaN</td>\n",
       "    </tr>\n",
       "    <tr>\n",
       "      <th>11999</th>\n",
       "      <td>12000</td>\n",
       "      <td>2014-01-26 08:57:12</td>\n",
       "      <td>Lima Thaís</td>\n",
       "      <td>ThaisMeloLima@hotmail.com</td>\n",
       "      <td>SIGNUP</td>\n",
       "      <td>1.390727e+09</td>\n",
       "      <td>0</td>\n",
       "      <td>1</td>\n",
       "      <td>0</td>\n",
       "      <td>NaN</td>\n",
       "    </tr>\n",
       "  </tbody>\n",
       "</table>\n",
       "<p>12000 rows × 10 columns</p>\n",
       "</div>"
      ],
      "text/plain": [
       "       object_id        creation_time               name  \\\n",
       "0              1  2014-04-22 03:53:30     Clausen August   \n",
       "1              2  2013-11-15 03:45:04      Poole Matthew   \n",
       "2              3  2013-03-19 23:14:52  Bottrill Mitchell   \n",
       "3              4  2013-05-21 08:09:28    Clausen Nicklas   \n",
       "4              5  2013-01-17 10:14:20          Raw Grace   \n",
       "...          ...                  ...                ...   \n",
       "11995      11996  2013-09-06 06:14:15       Meier Sophia   \n",
       "11996      11997  2013-01-10 18:28:37      Fisher Amelie   \n",
       "11997      11998  2014-04-27 12:45:16        Haynes Jake   \n",
       "11998      11999  2012-05-31 11:55:59       Faber Annett   \n",
       "11999      12000  2014-01-26 08:57:12         Lima Thaís   \n",
       "\n",
       "                            email     creation_source  \\\n",
       "0        AugustCClausen@yahoo.com        GUEST_INVITE   \n",
       "1          MatthewPoole@gustr.com          ORG_INVITE   \n",
       "2      MitchellBottrill@gustr.com          ORG_INVITE   \n",
       "3       NicklasSClausen@yahoo.com        GUEST_INVITE   \n",
       "4              GraceRaw@yahoo.com        GUEST_INVITE   \n",
       "...                           ...                 ...   \n",
       "11995       SophiaMeier@gustr.com          ORG_INVITE   \n",
       "11996      AmelieFisher@gmail.com  SIGNUP_GOOGLE_AUTH   \n",
       "11997         JakeHaynes@cuvox.de        GUEST_INVITE   \n",
       "11998          mhaerzxp@iuxiw.com   PERSONAL_PROJECTS   \n",
       "11999   ThaisMeloLima@hotmail.com              SIGNUP   \n",
       "\n",
       "       last_session_creation_time  opted_in_to_mailing_list  \\\n",
       "0                    1.398139e+09                         1   \n",
       "1                    1.396238e+09                         0   \n",
       "2                    1.363735e+09                         0   \n",
       "3                    1.369210e+09                         0   \n",
       "4                    1.358850e+09                         0   \n",
       "...                           ...                       ...   \n",
       "11995                1.378448e+09                         0   \n",
       "11996                1.358275e+09                         0   \n",
       "11997                1.398603e+09                         1   \n",
       "11998                1.338638e+09                         0   \n",
       "11999                1.390727e+09                         0   \n",
       "\n",
       "       enabled_for_marketing_drip  org_id  invited_by_user_id  \n",
       "0                               0      11             10803.0  \n",
       "1                               0       1               316.0  \n",
       "2                               0      94              1525.0  \n",
       "3                               0       1              5151.0  \n",
       "4                               0     193              5240.0  \n",
       "...                           ...     ...                 ...  \n",
       "11995                           0      89              8263.0  \n",
       "11996                           0     200                 NaN  \n",
       "11997                           1      83              8074.0  \n",
       "11998                           0       6                 NaN  \n",
       "11999                           1       0                 NaN  \n",
       "\n",
       "[12000 rows x 10 columns]"
      ]
     },
     "execution_count": 6,
     "metadata": {},
     "output_type": "execute_result"
    }
   ],
   "source": [
    "users_df"
   ]
  },
  {
   "cell_type": "code",
   "execution_count": 7,
   "id": "be0d1c5a-984e-4484-9771-977fd47acd8a",
   "metadata": {},
   "outputs": [],
   "source": [
    "user_engagement_df = pd.read_csv('takehome_user_engagement.csv')"
   ]
  },
  {
   "cell_type": "code",
   "execution_count": 8,
   "id": "690d2649-dcc3-4bb4-bf90-9107b8f3774b",
   "metadata": {},
   "outputs": [
    {
     "data": {
      "text/html": [
       "<div>\n",
       "<style scoped>\n",
       "    .dataframe tbody tr th:only-of-type {\n",
       "        vertical-align: middle;\n",
       "    }\n",
       "\n",
       "    .dataframe tbody tr th {\n",
       "        vertical-align: top;\n",
       "    }\n",
       "\n",
       "    .dataframe thead th {\n",
       "        text-align: right;\n",
       "    }\n",
       "</style>\n",
       "<table border=\"1\" class=\"dataframe\">\n",
       "  <thead>\n",
       "    <tr style=\"text-align: right;\">\n",
       "      <th></th>\n",
       "      <th>time_stamp</th>\n",
       "      <th>user_id</th>\n",
       "      <th>visited</th>\n",
       "    </tr>\n",
       "  </thead>\n",
       "  <tbody>\n",
       "    <tr>\n",
       "      <th>0</th>\n",
       "      <td>2014-04-22 03:53:30</td>\n",
       "      <td>1</td>\n",
       "      <td>1</td>\n",
       "    </tr>\n",
       "    <tr>\n",
       "      <th>1</th>\n",
       "      <td>2013-11-15 03:45:04</td>\n",
       "      <td>2</td>\n",
       "      <td>1</td>\n",
       "    </tr>\n",
       "    <tr>\n",
       "      <th>2</th>\n",
       "      <td>2013-11-29 03:45:04</td>\n",
       "      <td>2</td>\n",
       "      <td>1</td>\n",
       "    </tr>\n",
       "    <tr>\n",
       "      <th>3</th>\n",
       "      <td>2013-12-09 03:45:04</td>\n",
       "      <td>2</td>\n",
       "      <td>1</td>\n",
       "    </tr>\n",
       "    <tr>\n",
       "      <th>4</th>\n",
       "      <td>2013-12-25 03:45:04</td>\n",
       "      <td>2</td>\n",
       "      <td>1</td>\n",
       "    </tr>\n",
       "    <tr>\n",
       "      <th>...</th>\n",
       "      <td>...</td>\n",
       "      <td>...</td>\n",
       "      <td>...</td>\n",
       "    </tr>\n",
       "    <tr>\n",
       "      <th>207912</th>\n",
       "      <td>2013-09-06 06:14:15</td>\n",
       "      <td>11996</td>\n",
       "      <td>1</td>\n",
       "    </tr>\n",
       "    <tr>\n",
       "      <th>207913</th>\n",
       "      <td>2013-01-15 18:28:37</td>\n",
       "      <td>11997</td>\n",
       "      <td>1</td>\n",
       "    </tr>\n",
       "    <tr>\n",
       "      <th>207914</th>\n",
       "      <td>2014-04-27 12:45:16</td>\n",
       "      <td>11998</td>\n",
       "      <td>1</td>\n",
       "    </tr>\n",
       "    <tr>\n",
       "      <th>207915</th>\n",
       "      <td>2012-06-02 11:55:59</td>\n",
       "      <td>11999</td>\n",
       "      <td>1</td>\n",
       "    </tr>\n",
       "    <tr>\n",
       "      <th>207916</th>\n",
       "      <td>2014-01-26 08:57:12</td>\n",
       "      <td>12000</td>\n",
       "      <td>1</td>\n",
       "    </tr>\n",
       "  </tbody>\n",
       "</table>\n",
       "<p>207917 rows × 3 columns</p>\n",
       "</div>"
      ],
      "text/plain": [
       "                 time_stamp  user_id  visited\n",
       "0       2014-04-22 03:53:30        1        1\n",
       "1       2013-11-15 03:45:04        2        1\n",
       "2       2013-11-29 03:45:04        2        1\n",
       "3       2013-12-09 03:45:04        2        1\n",
       "4       2013-12-25 03:45:04        2        1\n",
       "...                     ...      ...      ...\n",
       "207912  2013-09-06 06:14:15    11996        1\n",
       "207913  2013-01-15 18:28:37    11997        1\n",
       "207914  2014-04-27 12:45:16    11998        1\n",
       "207915  2012-06-02 11:55:59    11999        1\n",
       "207916  2014-01-26 08:57:12    12000        1\n",
       "\n",
       "[207917 rows x 3 columns]"
      ]
     },
     "execution_count": 8,
     "metadata": {},
     "output_type": "execute_result"
    }
   ],
   "source": [
    "user_engagement_df"
   ]
  },
  {
   "cell_type": "markdown",
   "id": "a83eda53-3f47-4328-9ce3-c92b8cb31a44",
   "metadata": {},
   "source": [
    "The `user_engagement` DataFrame will be the first focus because it will show which users meet the engagement criteria of having at least 3 log-ins within a 7-day period. This will be done be casting the log-in time to a datetime object and setting the time as the index for the DataFrame, then grouping by user id and rolling a 7-day window over the groups tallying up counts of `visited`. Then, individual user ID's are summarized for users that meet the engagement threshold, and then these ID's are flagged in the `users_df` DataFrame of user features."
   ]
  },
  {
   "cell_type": "code",
   "execution_count": 9,
   "id": "06eab0c5-b89e-4c57-b618-8c5731b3f9d7",
   "metadata": {},
   "outputs": [
    {
     "data": {
      "text/plain": [
       "array([1])"
      ]
     },
     "execution_count": 9,
     "metadata": {},
     "output_type": "execute_result"
    }
   ],
   "source": [
    "user_engagement_df.visited.unique()"
   ]
  },
  {
   "cell_type": "code",
   "execution_count": 10,
   "id": "2adf848d-792f-44f7-8302-9e6ed4a4a917",
   "metadata": {},
   "outputs": [
    {
     "name": "stdout",
     "output_type": "stream",
     "text": [
      "<class 'pandas.core.frame.DataFrame'>\n",
      "RangeIndex: 207917 entries, 0 to 207916\n",
      "Data columns (total 3 columns):\n",
      " #   Column      Non-Null Count   Dtype \n",
      "---  ------      --------------   ----- \n",
      " 0   time_stamp  207917 non-null  object\n",
      " 1   user_id     207917 non-null  int64 \n",
      " 2   visited     207917 non-null  int64 \n",
      "dtypes: int64(2), object(1)\n",
      "memory usage: 4.8+ MB\n"
     ]
    }
   ],
   "source": [
    "user_engagement_df.info()"
   ]
  },
  {
   "cell_type": "code",
   "execution_count": 11,
   "id": "0672e735-2dcc-47dd-b4a6-41031f62c830",
   "metadata": {},
   "outputs": [],
   "source": [
    "user_engagement_df.time_stamp = pd.to_datetime(user_engagement_df.time_stamp)\n",
    "user_engagement_df.set_index('time_stamp', inplace=True)"
   ]
  },
  {
   "cell_type": "code",
   "execution_count": 12,
   "id": "1e0f8076-6402-4b78-90fc-4613e6f22fe7",
   "metadata": {},
   "outputs": [],
   "source": [
    "user_engagement_df.sort_index(inplace=True)"
   ]
  },
  {
   "cell_type": "code",
   "execution_count": 13,
   "id": "35bece3e-f47c-43b4-8a4e-661f267ad9a4",
   "metadata": {},
   "outputs": [
    {
     "data": {
      "text/html": [
       "<div>\n",
       "<style scoped>\n",
       "    .dataframe tbody tr th:only-of-type {\n",
       "        vertical-align: middle;\n",
       "    }\n",
       "\n",
       "    .dataframe tbody tr th {\n",
       "        vertical-align: top;\n",
       "    }\n",
       "\n",
       "    .dataframe thead th {\n",
       "        text-align: right;\n",
       "    }\n",
       "</style>\n",
       "<table border=\"1\" class=\"dataframe\">\n",
       "  <thead>\n",
       "    <tr style=\"text-align: right;\">\n",
       "      <th></th>\n",
       "      <th>user_id</th>\n",
       "      <th>visited</th>\n",
       "    </tr>\n",
       "    <tr>\n",
       "      <th>time_stamp</th>\n",
       "      <th></th>\n",
       "      <th></th>\n",
       "    </tr>\n",
       "  </thead>\n",
       "  <tbody>\n",
       "    <tr>\n",
       "      <th>2013-01-01 00:11:04</th>\n",
       "      <td>2042</td>\n",
       "      <td>1</td>\n",
       "    </tr>\n",
       "    <tr>\n",
       "      <th>2013-01-01 00:51:13</th>\n",
       "      <td>7590</td>\n",
       "      <td>1</td>\n",
       "    </tr>\n",
       "    <tr>\n",
       "      <th>2013-01-01 00:59:56</th>\n",
       "      <td>2622</td>\n",
       "      <td>1</td>\n",
       "    </tr>\n",
       "    <tr>\n",
       "      <th>2013-01-01 01:03:55</th>\n",
       "      <td>3269</td>\n",
       "      <td>1</td>\n",
       "    </tr>\n",
       "    <tr>\n",
       "      <th>2013-01-01 01:13:02</th>\n",
       "      <td>8297</td>\n",
       "      <td>1</td>\n",
       "    </tr>\n",
       "    <tr>\n",
       "      <th>...</th>\n",
       "      <td>...</td>\n",
       "      <td>...</td>\n",
       "    </tr>\n",
       "    <tr>\n",
       "      <th>2013-12-31 23:41:46</th>\n",
       "      <td>529</td>\n",
       "      <td>1</td>\n",
       "    </tr>\n",
       "    <tr>\n",
       "      <th>2013-12-31 23:45:11</th>\n",
       "      <td>8221</td>\n",
       "      <td>1</td>\n",
       "    </tr>\n",
       "    <tr>\n",
       "      <th>2013-12-31 23:52:36</th>\n",
       "      <td>11004</td>\n",
       "      <td>1</td>\n",
       "    </tr>\n",
       "    <tr>\n",
       "      <th>2013-12-31 23:53:57</th>\n",
       "      <td>5071</td>\n",
       "      <td>1</td>\n",
       "    </tr>\n",
       "    <tr>\n",
       "      <th>2013-12-31 23:56:26</th>\n",
       "      <td>341</td>\n",
       "      <td>1</td>\n",
       "    </tr>\n",
       "  </tbody>\n",
       "</table>\n",
       "<p>105725 rows × 2 columns</p>\n",
       "</div>"
      ],
      "text/plain": [
       "                     user_id  visited\n",
       "time_stamp                           \n",
       "2013-01-01 00:11:04     2042        1\n",
       "2013-01-01 00:51:13     7590        1\n",
       "2013-01-01 00:59:56     2622        1\n",
       "2013-01-01 01:03:55     3269        1\n",
       "2013-01-01 01:13:02     8297        1\n",
       "...                      ...      ...\n",
       "2013-12-31 23:41:46      529        1\n",
       "2013-12-31 23:45:11     8221        1\n",
       "2013-12-31 23:52:36    11004        1\n",
       "2013-12-31 23:53:57     5071        1\n",
       "2013-12-31 23:56:26      341        1\n",
       "\n",
       "[105725 rows x 2 columns]"
      ]
     },
     "execution_count": 13,
     "metadata": {},
     "output_type": "execute_result"
    }
   ],
   "source": [
    "user_engagement_df['2013':'2013']"
   ]
  },
  {
   "cell_type": "code",
   "execution_count": 14,
   "id": "da12f0a9-806c-4de2-aa8b-a4c9096d2217",
   "metadata": {},
   "outputs": [],
   "source": [
    "seven_day_engagement = user_engagement_df.groupby('user_id').rolling('7d').sum()"
   ]
  },
  {
   "cell_type": "code",
   "execution_count": 15,
   "id": "16375dc1-5abf-462a-b0da-3e2678d9acd7",
   "metadata": {},
   "outputs": [],
   "source": [
    "engaged_users = np.array([user for user, date in seven_day_engagement[seven_day_engagement.visited >= 3].index])"
   ]
  },
  {
   "cell_type": "code",
   "execution_count": 16,
   "id": "079c28d5-5823-4da0-ae9b-b00a5874264a",
   "metadata": {},
   "outputs": [],
   "source": [
    "engaged_users = np.unique(engaged_users)"
   ]
  },
  {
   "cell_type": "code",
   "execution_count": 17,
   "id": "c6a550bd-26c9-4d5e-9427-ea7ac1cd7fd6",
   "metadata": {},
   "outputs": [
    {
     "data": {
      "text/plain": [
       "1602"
      ]
     },
     "execution_count": 17,
     "metadata": {},
     "output_type": "execute_result"
    }
   ],
   "source": [
    "len(engaged_users)"
   ]
  },
  {
   "cell_type": "markdown",
   "id": "6a9cd2dd-9053-48b2-8fae-a34e6a6da732",
   "metadata": {},
   "source": [
    "Looks like there are 1602 users that meet the threshold of being engaged."
   ]
  },
  {
   "cell_type": "code",
   "execution_count": 18,
   "id": "a7df1ac7-11c7-43c1-98d6-54b85260623a",
   "metadata": {},
   "outputs": [],
   "source": [
    "users_df['engaged'] = [1 if users_df.object_id[i] in engaged_users else 0 for i in range(len(users_df))]"
   ]
  },
  {
   "cell_type": "markdown",
   "id": "a6bd68cc-5027-44d0-85d2-9c2352467cae",
   "metadata": {},
   "source": [
    "Now the features of each users can be downselected, scaled, and fitted."
   ]
  },
  {
   "cell_type": "code",
   "execution_count": 19,
   "id": "16d8a31c-8b11-4e8b-9aa3-14f9d18ab52c",
   "metadata": {},
   "outputs": [
    {
     "data": {
      "text/html": [
       "<div>\n",
       "<style scoped>\n",
       "    .dataframe tbody tr th:only-of-type {\n",
       "        vertical-align: middle;\n",
       "    }\n",
       "\n",
       "    .dataframe tbody tr th {\n",
       "        vertical-align: top;\n",
       "    }\n",
       "\n",
       "    .dataframe thead th {\n",
       "        text-align: right;\n",
       "    }\n",
       "</style>\n",
       "<table border=\"1\" class=\"dataframe\">\n",
       "  <thead>\n",
       "    <tr style=\"text-align: right;\">\n",
       "      <th></th>\n",
       "      <th>object_id</th>\n",
       "      <th>creation_time</th>\n",
       "      <th>name</th>\n",
       "      <th>email</th>\n",
       "      <th>creation_source</th>\n",
       "      <th>last_session_creation_time</th>\n",
       "      <th>opted_in_to_mailing_list</th>\n",
       "      <th>enabled_for_marketing_drip</th>\n",
       "      <th>org_id</th>\n",
       "      <th>invited_by_user_id</th>\n",
       "      <th>engaged</th>\n",
       "    </tr>\n",
       "  </thead>\n",
       "  <tbody>\n",
       "    <tr>\n",
       "      <th>0</th>\n",
       "      <td>1</td>\n",
       "      <td>2014-04-22 03:53:30</td>\n",
       "      <td>Clausen August</td>\n",
       "      <td>AugustCClausen@yahoo.com</td>\n",
       "      <td>GUEST_INVITE</td>\n",
       "      <td>1.398139e+09</td>\n",
       "      <td>1</td>\n",
       "      <td>0</td>\n",
       "      <td>11</td>\n",
       "      <td>10803.0</td>\n",
       "      <td>0</td>\n",
       "    </tr>\n",
       "    <tr>\n",
       "      <th>1</th>\n",
       "      <td>2</td>\n",
       "      <td>2013-11-15 03:45:04</td>\n",
       "      <td>Poole Matthew</td>\n",
       "      <td>MatthewPoole@gustr.com</td>\n",
       "      <td>ORG_INVITE</td>\n",
       "      <td>1.396238e+09</td>\n",
       "      <td>0</td>\n",
       "      <td>0</td>\n",
       "      <td>1</td>\n",
       "      <td>316.0</td>\n",
       "      <td>1</td>\n",
       "    </tr>\n",
       "    <tr>\n",
       "      <th>2</th>\n",
       "      <td>3</td>\n",
       "      <td>2013-03-19 23:14:52</td>\n",
       "      <td>Bottrill Mitchell</td>\n",
       "      <td>MitchellBottrill@gustr.com</td>\n",
       "      <td>ORG_INVITE</td>\n",
       "      <td>1.363735e+09</td>\n",
       "      <td>0</td>\n",
       "      <td>0</td>\n",
       "      <td>94</td>\n",
       "      <td>1525.0</td>\n",
       "      <td>0</td>\n",
       "    </tr>\n",
       "    <tr>\n",
       "      <th>3</th>\n",
       "      <td>4</td>\n",
       "      <td>2013-05-21 08:09:28</td>\n",
       "      <td>Clausen Nicklas</td>\n",
       "      <td>NicklasSClausen@yahoo.com</td>\n",
       "      <td>GUEST_INVITE</td>\n",
       "      <td>1.369210e+09</td>\n",
       "      <td>0</td>\n",
       "      <td>0</td>\n",
       "      <td>1</td>\n",
       "      <td>5151.0</td>\n",
       "      <td>0</td>\n",
       "    </tr>\n",
       "    <tr>\n",
       "      <th>4</th>\n",
       "      <td>5</td>\n",
       "      <td>2013-01-17 10:14:20</td>\n",
       "      <td>Raw Grace</td>\n",
       "      <td>GraceRaw@yahoo.com</td>\n",
       "      <td>GUEST_INVITE</td>\n",
       "      <td>1.358850e+09</td>\n",
       "      <td>0</td>\n",
       "      <td>0</td>\n",
       "      <td>193</td>\n",
       "      <td>5240.0</td>\n",
       "      <td>0</td>\n",
       "    </tr>\n",
       "    <tr>\n",
       "      <th>5</th>\n",
       "      <td>6</td>\n",
       "      <td>2013-12-17 03:37:06</td>\n",
       "      <td>Cunha Eduardo</td>\n",
       "      <td>EduardoPereiraCunha@yahoo.com</td>\n",
       "      <td>GUEST_INVITE</td>\n",
       "      <td>1.387424e+09</td>\n",
       "      <td>0</td>\n",
       "      <td>0</td>\n",
       "      <td>197</td>\n",
       "      <td>11241.0</td>\n",
       "      <td>0</td>\n",
       "    </tr>\n",
       "    <tr>\n",
       "      <th>6</th>\n",
       "      <td>7</td>\n",
       "      <td>2012-12-16 13:24:32</td>\n",
       "      <td>Sewell Tyler</td>\n",
       "      <td>TylerSewell@jourrapide.com</td>\n",
       "      <td>SIGNUP</td>\n",
       "      <td>1.356010e+09</td>\n",
       "      <td>0</td>\n",
       "      <td>1</td>\n",
       "      <td>37</td>\n",
       "      <td>NaN</td>\n",
       "      <td>0</td>\n",
       "    </tr>\n",
       "    <tr>\n",
       "      <th>7</th>\n",
       "      <td>8</td>\n",
       "      <td>2013-07-31 05:34:02</td>\n",
       "      <td>Hamilton Danielle</td>\n",
       "      <td>DanielleHamilton@yahoo.com</td>\n",
       "      <td>PERSONAL_PROJECTS</td>\n",
       "      <td>NaN</td>\n",
       "      <td>1</td>\n",
       "      <td>1</td>\n",
       "      <td>74</td>\n",
       "      <td>NaN</td>\n",
       "      <td>0</td>\n",
       "    </tr>\n",
       "    <tr>\n",
       "      <th>8</th>\n",
       "      <td>9</td>\n",
       "      <td>2013-11-05 04:04:24</td>\n",
       "      <td>Amsel Paul</td>\n",
       "      <td>PaulAmsel@hotmail.com</td>\n",
       "      <td>PERSONAL_PROJECTS</td>\n",
       "      <td>NaN</td>\n",
       "      <td>0</td>\n",
       "      <td>0</td>\n",
       "      <td>302</td>\n",
       "      <td>NaN</td>\n",
       "      <td>0</td>\n",
       "    </tr>\n",
       "    <tr>\n",
       "      <th>9</th>\n",
       "      <td>10</td>\n",
       "      <td>2013-01-16 22:08:03</td>\n",
       "      <td>Santos Carla</td>\n",
       "      <td>CarlaFerreiraSantos@gustr.com</td>\n",
       "      <td>ORG_INVITE</td>\n",
       "      <td>1.401833e+09</td>\n",
       "      <td>1</td>\n",
       "      <td>1</td>\n",
       "      <td>318</td>\n",
       "      <td>4143.0</td>\n",
       "      <td>1</td>\n",
       "    </tr>\n",
       "    <tr>\n",
       "      <th>10</th>\n",
       "      <td>11</td>\n",
       "      <td>2013-12-26 03:55:54</td>\n",
       "      <td>Paulsen Malthe</td>\n",
       "      <td>MaltheAPaulsen@gustr.com</td>\n",
       "      <td>SIGNUP</td>\n",
       "      <td>1.388117e+09</td>\n",
       "      <td>0</td>\n",
       "      <td>0</td>\n",
       "      <td>69</td>\n",
       "      <td>NaN</td>\n",
       "      <td>0</td>\n",
       "    </tr>\n",
       "    <tr>\n",
       "      <th>11</th>\n",
       "      <td>12</td>\n",
       "      <td>2014-04-17 23:48:38</td>\n",
       "      <td>Mathiesen Lærke</td>\n",
       "      <td>LaerkeLMathiesen@cuvox.de</td>\n",
       "      <td>ORG_INVITE</td>\n",
       "      <td>NaN</td>\n",
       "      <td>0</td>\n",
       "      <td>0</td>\n",
       "      <td>130</td>\n",
       "      <td>9270.0</td>\n",
       "      <td>0</td>\n",
       "    </tr>\n",
       "    <tr>\n",
       "      <th>12</th>\n",
       "      <td>13</td>\n",
       "      <td>2014-03-30 16:19:38</td>\n",
       "      <td>Fry Alexander</td>\n",
       "      <td>AlexanderDFry@cuvox.de</td>\n",
       "      <td>ORG_INVITE</td>\n",
       "      <td>1.396196e+09</td>\n",
       "      <td>0</td>\n",
       "      <td>0</td>\n",
       "      <td>254</td>\n",
       "      <td>11204.0</td>\n",
       "      <td>0</td>\n",
       "    </tr>\n",
       "    <tr>\n",
       "      <th>13</th>\n",
       "      <td>14</td>\n",
       "      <td>2012-10-11 16:14:33</td>\n",
       "      <td>Rivera Bret</td>\n",
       "      <td>BretKRivera@gmail.com</td>\n",
       "      <td>SIGNUP</td>\n",
       "      <td>1.350058e+09</td>\n",
       "      <td>0</td>\n",
       "      <td>0</td>\n",
       "      <td>0</td>\n",
       "      <td>NaN</td>\n",
       "      <td>0</td>\n",
       "    </tr>\n",
       "    <tr>\n",
       "      <th>14</th>\n",
       "      <td>15</td>\n",
       "      <td>2013-07-16 21:33:54</td>\n",
       "      <td>Theiss Ralf</td>\n",
       "      <td>RalfTheiss@hotmail.com</td>\n",
       "      <td>PERSONAL_PROJECTS</td>\n",
       "      <td>NaN</td>\n",
       "      <td>0</td>\n",
       "      <td>0</td>\n",
       "      <td>175</td>\n",
       "      <td>NaN</td>\n",
       "      <td>0</td>\n",
       "    </tr>\n",
       "    <tr>\n",
       "      <th>15</th>\n",
       "      <td>16</td>\n",
       "      <td>2013-02-11 10:09:50</td>\n",
       "      <td>Engel René</td>\n",
       "      <td>ReneEngel@hotmail.com</td>\n",
       "      <td>PERSONAL_PROJECTS</td>\n",
       "      <td>NaN</td>\n",
       "      <td>0</td>\n",
       "      <td>0</td>\n",
       "      <td>211</td>\n",
       "      <td>NaN</td>\n",
       "      <td>0</td>\n",
       "    </tr>\n",
       "    <tr>\n",
       "      <th>16</th>\n",
       "      <td>17</td>\n",
       "      <td>2014-04-09 14:39:38</td>\n",
       "      <td>Reynolds Anthony</td>\n",
       "      <td>AnthonyReynolds@jourrapide.com</td>\n",
       "      <td>GUEST_INVITE</td>\n",
       "      <td>1.397314e+09</td>\n",
       "      <td>1</td>\n",
       "      <td>0</td>\n",
       "      <td>175</td>\n",
       "      <td>1600.0</td>\n",
       "      <td>0</td>\n",
       "    </tr>\n",
       "    <tr>\n",
       "      <th>17</th>\n",
       "      <td>18</td>\n",
       "      <td>2013-08-24 00:26:46</td>\n",
       "      <td>Gregersen Celina</td>\n",
       "      <td>CelinaAGregersen@jourrapide.com</td>\n",
       "      <td>GUEST_INVITE</td>\n",
       "      <td>NaN</td>\n",
       "      <td>0</td>\n",
       "      <td>0</td>\n",
       "      <td>2</td>\n",
       "      <td>3153.0</td>\n",
       "      <td>0</td>\n",
       "    </tr>\n",
       "    <tr>\n",
       "      <th>18</th>\n",
       "      <td>19</td>\n",
       "      <td>2013-05-24 14:56:36</td>\n",
       "      <td>Collins Arlene</td>\n",
       "      <td>ArleneRCollins@gmail.com</td>\n",
       "      <td>SIGNUP</td>\n",
       "      <td>1.369926e+09</td>\n",
       "      <td>1</td>\n",
       "      <td>0</td>\n",
       "      <td>0</td>\n",
       "      <td>NaN</td>\n",
       "      <td>0</td>\n",
       "    </tr>\n",
       "    <tr>\n",
       "      <th>19</th>\n",
       "      <td>20</td>\n",
       "      <td>2014-03-06 11:46:38</td>\n",
       "      <td>Helms Mikayla</td>\n",
       "      <td>lqyvjilf@uhzdq.com</td>\n",
       "      <td>SIGNUP</td>\n",
       "      <td>1.401364e+09</td>\n",
       "      <td>0</td>\n",
       "      <td>0</td>\n",
       "      <td>58</td>\n",
       "      <td>NaN</td>\n",
       "      <td>1</td>\n",
       "    </tr>\n",
       "  </tbody>\n",
       "</table>\n",
       "</div>"
      ],
      "text/plain": [
       "    object_id        creation_time               name  \\\n",
       "0           1  2014-04-22 03:53:30     Clausen August   \n",
       "1           2  2013-11-15 03:45:04      Poole Matthew   \n",
       "2           3  2013-03-19 23:14:52  Bottrill Mitchell   \n",
       "3           4  2013-05-21 08:09:28    Clausen Nicklas   \n",
       "4           5  2013-01-17 10:14:20          Raw Grace   \n",
       "5           6  2013-12-17 03:37:06      Cunha Eduardo   \n",
       "6           7  2012-12-16 13:24:32       Sewell Tyler   \n",
       "7           8  2013-07-31 05:34:02  Hamilton Danielle   \n",
       "8           9  2013-11-05 04:04:24         Amsel Paul   \n",
       "9          10  2013-01-16 22:08:03       Santos Carla   \n",
       "10         11  2013-12-26 03:55:54     Paulsen Malthe   \n",
       "11         12  2014-04-17 23:48:38    Mathiesen Lærke   \n",
       "12         13  2014-03-30 16:19:38      Fry Alexander   \n",
       "13         14  2012-10-11 16:14:33        Rivera Bret   \n",
       "14         15  2013-07-16 21:33:54        Theiss Ralf   \n",
       "15         16  2013-02-11 10:09:50         Engel René   \n",
       "16         17  2014-04-09 14:39:38   Reynolds Anthony   \n",
       "17         18  2013-08-24 00:26:46   Gregersen Celina   \n",
       "18         19  2013-05-24 14:56:36     Collins Arlene   \n",
       "19         20  2014-03-06 11:46:38      Helms Mikayla   \n",
       "\n",
       "                              email    creation_source  \\\n",
       "0          AugustCClausen@yahoo.com       GUEST_INVITE   \n",
       "1            MatthewPoole@gustr.com         ORG_INVITE   \n",
       "2        MitchellBottrill@gustr.com         ORG_INVITE   \n",
       "3         NicklasSClausen@yahoo.com       GUEST_INVITE   \n",
       "4                GraceRaw@yahoo.com       GUEST_INVITE   \n",
       "5     EduardoPereiraCunha@yahoo.com       GUEST_INVITE   \n",
       "6        TylerSewell@jourrapide.com             SIGNUP   \n",
       "7        DanielleHamilton@yahoo.com  PERSONAL_PROJECTS   \n",
       "8             PaulAmsel@hotmail.com  PERSONAL_PROJECTS   \n",
       "9     CarlaFerreiraSantos@gustr.com         ORG_INVITE   \n",
       "10         MaltheAPaulsen@gustr.com             SIGNUP   \n",
       "11        LaerkeLMathiesen@cuvox.de         ORG_INVITE   \n",
       "12           AlexanderDFry@cuvox.de         ORG_INVITE   \n",
       "13            BretKRivera@gmail.com             SIGNUP   \n",
       "14           RalfTheiss@hotmail.com  PERSONAL_PROJECTS   \n",
       "15            ReneEngel@hotmail.com  PERSONAL_PROJECTS   \n",
       "16   AnthonyReynolds@jourrapide.com       GUEST_INVITE   \n",
       "17  CelinaAGregersen@jourrapide.com       GUEST_INVITE   \n",
       "18         ArleneRCollins@gmail.com             SIGNUP   \n",
       "19               lqyvjilf@uhzdq.com             SIGNUP   \n",
       "\n",
       "    last_session_creation_time  opted_in_to_mailing_list  \\\n",
       "0                 1.398139e+09                         1   \n",
       "1                 1.396238e+09                         0   \n",
       "2                 1.363735e+09                         0   \n",
       "3                 1.369210e+09                         0   \n",
       "4                 1.358850e+09                         0   \n",
       "5                 1.387424e+09                         0   \n",
       "6                 1.356010e+09                         0   \n",
       "7                          NaN                         1   \n",
       "8                          NaN                         0   \n",
       "9                 1.401833e+09                         1   \n",
       "10                1.388117e+09                         0   \n",
       "11                         NaN                         0   \n",
       "12                1.396196e+09                         0   \n",
       "13                1.350058e+09                         0   \n",
       "14                         NaN                         0   \n",
       "15                         NaN                         0   \n",
       "16                1.397314e+09                         1   \n",
       "17                         NaN                         0   \n",
       "18                1.369926e+09                         1   \n",
       "19                1.401364e+09                         0   \n",
       "\n",
       "    enabled_for_marketing_drip  org_id  invited_by_user_id  engaged  \n",
       "0                            0      11             10803.0        0  \n",
       "1                            0       1               316.0        1  \n",
       "2                            0      94              1525.0        0  \n",
       "3                            0       1              5151.0        0  \n",
       "4                            0     193              5240.0        0  \n",
       "5                            0     197             11241.0        0  \n",
       "6                            1      37                 NaN        0  \n",
       "7                            1      74                 NaN        0  \n",
       "8                            0     302                 NaN        0  \n",
       "9                            1     318              4143.0        1  \n",
       "10                           0      69                 NaN        0  \n",
       "11                           0     130              9270.0        0  \n",
       "12                           0     254             11204.0        0  \n",
       "13                           0       0                 NaN        0  \n",
       "14                           0     175                 NaN        0  \n",
       "15                           0     211                 NaN        0  \n",
       "16                           0     175              1600.0        0  \n",
       "17                           0       2              3153.0        0  \n",
       "18                           0       0                 NaN        0  \n",
       "19                           0      58                 NaN        1  "
      ]
     },
     "execution_count": 19,
     "metadata": {},
     "output_type": "execute_result"
    }
   ],
   "source": [
    "users_df.head(20)"
   ]
  },
  {
   "cell_type": "code",
   "execution_count": 20,
   "id": "c3e45bb5-b7b7-4d7b-8667-6f5b83857f58",
   "metadata": {},
   "outputs": [
    {
     "name": "stdout",
     "output_type": "stream",
     "text": [
      "<class 'pandas.core.frame.DataFrame'>\n",
      "RangeIndex: 12000 entries, 0 to 11999\n",
      "Data columns (total 11 columns):\n",
      " #   Column                      Non-Null Count  Dtype  \n",
      "---  ------                      --------------  -----  \n",
      " 0   object_id                   12000 non-null  int64  \n",
      " 1   creation_time               12000 non-null  object \n",
      " 2   name                        12000 non-null  object \n",
      " 3   email                       12000 non-null  object \n",
      " 4   creation_source             12000 non-null  object \n",
      " 5   last_session_creation_time  8823 non-null   float64\n",
      " 6   opted_in_to_mailing_list    12000 non-null  int64  \n",
      " 7   enabled_for_marketing_drip  12000 non-null  int64  \n",
      " 8   org_id                      12000 non-null  int64  \n",
      " 9   invited_by_user_id          6417 non-null   float64\n",
      " 10  engaged                     12000 non-null  int64  \n",
      "dtypes: float64(2), int64(5), object(4)\n",
      "memory usage: 1.0+ MB\n"
     ]
    }
   ],
   "source": [
    "users_df.info()"
   ]
  },
  {
   "cell_type": "code",
   "execution_count": 21,
   "id": "791ea924-2c86-48c1-b031-d5928707814c",
   "metadata": {},
   "outputs": [
    {
     "data": {
      "text/plain": [
       "object_id                     12000\n",
       "creation_time                 11996\n",
       "name                          11355\n",
       "email                         11980\n",
       "creation_source                   5\n",
       "last_session_creation_time     8821\n",
       "opted_in_to_mailing_list          2\n",
       "enabled_for_marketing_drip        2\n",
       "org_id                          417\n",
       "invited_by_user_id             2564\n",
       "engaged                           2\n",
       "dtype: int64"
      ]
     },
     "execution_count": 21,
     "metadata": {},
     "output_type": "execute_result"
    }
   ],
   "source": [
    "users_df.nunique()"
   ]
  },
  {
   "cell_type": "markdown",
   "id": "1e5453b6-8f38-4cd3-9f15-abb49ebbbcb5",
   "metadata": {},
   "source": [
    "Columns `object_id`, `creation_time`, `name`, `email`, and `last_session_creation_time` are very high entropy, so they will be dropped from the data."
   ]
  },
  {
   "cell_type": "code",
   "execution_count": 22,
   "id": "24fdb315-9d4d-4dc1-881d-7d1c9c695306",
   "metadata": {},
   "outputs": [],
   "source": [
    "users_df.drop(columns=['object_id', 'creation_time', 'name', 'email', 'last_session_creation_time'], inplace=True)"
   ]
  },
  {
   "cell_type": "code",
   "execution_count": 23,
   "id": "5ba35309-f53e-4b3c-b91e-d465c4246fec",
   "metadata": {},
   "outputs": [],
   "source": [
    "users_df.invited_by_user_id = users_df.invited_by_user_id.fillna(0).astype('int32')"
   ]
  },
  {
   "cell_type": "code",
   "execution_count": 24,
   "id": "f9215ad7-e4c3-4528-b0e0-c1db82a7210a",
   "metadata": {},
   "outputs": [],
   "source": [
    "users_df = pd.get_dummies(users_df)"
   ]
  },
  {
   "cell_type": "code",
   "execution_count": 25,
   "id": "19173eea-d159-496d-b295-d5535e5b13e9",
   "metadata": {},
   "outputs": [
    {
     "name": "stdout",
     "output_type": "stream",
     "text": [
      "<class 'pandas.core.frame.DataFrame'>\n",
      "RangeIndex: 12000 entries, 0 to 11999\n",
      "Data columns (total 10 columns):\n",
      " #   Column                              Non-Null Count  Dtype\n",
      "---  ------                              --------------  -----\n",
      " 0   opted_in_to_mailing_list            12000 non-null  int64\n",
      " 1   enabled_for_marketing_drip          12000 non-null  int64\n",
      " 2   org_id                              12000 non-null  int64\n",
      " 3   invited_by_user_id                  12000 non-null  int32\n",
      " 4   engaged                             12000 non-null  int64\n",
      " 5   creation_source_GUEST_INVITE        12000 non-null  uint8\n",
      " 6   creation_source_ORG_INVITE          12000 non-null  uint8\n",
      " 7   creation_source_PERSONAL_PROJECTS   12000 non-null  uint8\n",
      " 8   creation_source_SIGNUP              12000 non-null  uint8\n",
      " 9   creation_source_SIGNUP_GOOGLE_AUTH  12000 non-null  uint8\n",
      "dtypes: int32(1), int64(4), uint8(5)\n",
      "memory usage: 480.6 KB\n"
     ]
    }
   ],
   "source": [
    "users_df.info()"
   ]
  },
  {
   "cell_type": "markdown",
   "id": "24b1ac38-5819-42f5-a002-c3112c198857",
   "metadata": {},
   "source": [
    "Great - no missing values."
   ]
  },
  {
   "cell_type": "code",
   "execution_count": 26,
   "id": "ea37613d-b5d2-4563-8953-96c36d0ea32c",
   "metadata": {},
   "outputs": [
    {
     "data": {
      "text/plain": [
       "<AxesSubplot:>"
      ]
     },
     "execution_count": 26,
     "metadata": {},
     "output_type": "execute_result"
    },
    {
     "data": {
      "image/png": "[encoded data removed]",
      "text/plain": [
       "<Figure size 432x288 with 2 Axes>"
      ]
     },
     "metadata": {
      "needs_background": "light"
     },
     "output_type": "display_data"
    }
   ],
   "source": [
    "import seaborn as sns\n",
    "corr = users_df.corr()\n",
    "sns.heatmap(corr, \n",
    "        xticklabels=corr.columns,\n",
    "        yticklabels=corr.columns)"
   ]
  },
  {
   "cell_type": "markdown",
   "id": "b88a3bab-b3b1-41fb-9b6d-a98501864f3b",
   "metadata": {},
   "source": [
    "Lastly, `opted_in_to_mailing_list` and `enabled_for_marketing_drip` are highly correlated and `invited_by_user_id` and `creating_source_ORG_INVITE` are highly correlated. It makes sense that users receiving the marketing drip have opted in, so the `opted_in_to_mailing_list` column will be dropped, as well as the `invited_by_user_id` column because those users appear to be the same users as those created by an org invite.\n",
    "\n",
    "Lastly, there is some indication that engaged users correlate with `org_id`, so there may be some earlier indication that users who are part of a larger structure are retained."
   ]
  },
  {
   "cell_type": "code",
   "execution_count": 27,
   "id": "d551bc95-c10f-435e-8d52-544ecd3ed6ae",
   "metadata": {},
   "outputs": [],
   "source": [
    "users_df.drop(columns=['opted_in_to_mailing_list', 'invited_by_user_id'], inplace=True)"
   ]
  },
  {
   "cell_type": "code",
   "execution_count": 28,
   "id": "70e6bada-2826-41a5-a840-5324726ed513",
   "metadata": {},
   "outputs": [],
   "source": [
    "from sklearn.model_selection import train_test_split\n",
    "X = users_df.drop(columns='engaged')\n",
    "y = users_df.engaged\n",
    "X_train, X_test, y_train, y_test = train_test_split(X, y)"
   ]
  },
  {
   "cell_type": "code",
   "execution_count": 29,
   "id": "d1e43ba4-8520-4ea9-9f32-64b90a7cc061",
   "metadata": {},
   "outputs": [],
   "source": [
    "from sklearn.preprocessing import StandardScaler\n",
    "SS = StandardScaler()\n",
    "X_train[X_train.columns] = SS.fit_transform(X_train)"
   ]
  },
  {
   "cell_type": "code",
   "execution_count": 30,
   "id": "4d87d396-0066-495c-9b52-1ed3b676e4d7",
   "metadata": {},
   "outputs": [],
   "source": [
    "X_test[X_test.columns] = SS.transform(X_test)"
   ]
  },
  {
   "cell_type": "code",
   "execution_count": 31,
   "id": "360aeee9-a8d8-4f95-9404-3ac333309497",
   "metadata": {},
   "outputs": [],
   "source": [
    "from sklearn.neighbors import KNeighborsClassifier\n",
    "from sklearn.neighbors import RadiusNeighborsClassifier\n",
    "from sklearn.discriminant_analysis import LinearDiscriminantAnalysis\n",
    "from sklearn.discriminant_analysis import QuadraticDiscriminantAnalysis\n",
    "from sklearn.svm import LinearSVC\n",
    "from sklearn.linear_model import LogisticRegression\n",
    "from sklearn.linear_model import RidgeClassifier\n",
    "from sklearn.neural_network import MLPClassifier\n",
    "from sklearn.ensemble import RandomForestClassifier\n",
    "from sklearn.ensemble import GradientBoostingClassifier"
   ]
  },
  {
   "cell_type": "code",
   "execution_count": 32,
   "id": "24bf1b8d-8029-48b6-9f7d-bb4fc97dd2aa",
   "metadata": {},
   "outputs": [],
   "source": [
    "models = list()\n",
    "models.append(('KNN', KNeighborsClassifier(n_jobs=-1)))\n",
    "models.append(('RNC', RadiusNeighborsClassifier(n_jobs=-1)))\n",
    "models.append(('LDA', LinearDiscriminantAnalysis()))\n",
    "models.append(('QDA', QuadraticDiscriminantAnalysis()))\n",
    "models.append(('LSVC', LinearSVC()))\n",
    "models.append(('LR', LogisticRegression(n_jobs=-1)))\n",
    "models.append(('RC', RidgeClassifier()))\n",
    "models.append(('MLPC', MLPClassifier()))\n",
    "models.append(('RFC', RandomForestClassifier(n_jobs=-1)))\n",
    "models.append(('GBC', GradientBoostingClassifier()))"
   ]
  },
  {
   "cell_type": "code",
   "execution_count": 33,
   "id": "dfab49f9-8d16-4915-af57-12e2504e7427",
   "metadata": {},
   "outputs": [],
   "source": [
    "from sklearn.model_selection import cross_validate\n",
    "scores = list() "
   ]
  },
  {
   "cell_type": "code",
   "execution_count": 34,
   "id": "365d9775-7dc3-4dcf-9748-3d3fbe754c0c",
   "metadata": {},
   "outputs": [],
   "source": [
    "for model in models:\n",
    "    cv_results = cross_validate(model[1], X_train, y_train, cv=10, n_jobs=-1)\n",
    "    scores.append((model[0], cv_results['test_score']))"
   ]
  },
  {
   "cell_type": "code",
   "execution_count": 35,
   "id": "bf9f56bd-8e92-4d6c-80f5-c25dcfd5fcc1",
   "metadata": {},
   "outputs": [
    {
     "data": {
      "image/png": "[encoded data removed]",
      "text/plain": [
       "<Figure size 1080x720 with 1 Axes>"
      ]
     },
     "metadata": {
      "needs_background": "light"
     },
     "output_type": "display_data"
    }
   ],
   "source": [
    "scores = list(zip(*scores))\n",
    "fig = plt.figure(figsize =(15, 10))\n",
    "ax = fig.add_subplot(111)\n",
    "bp = ax.boxplot(scores[1], labels=scores[0])\n",
    "ax.set_xlabel('Classifier')\n",
    "ax.set_ylabel('Accuracy Score')\n",
    "ax.set_title('Classifier Performance')\n",
    "\n",
    "plt.savefig('boxplot.png')\n",
    "plt.show()"
   ]
  },
  {
   "cell_type": "markdown",
   "id": "80690a4e-eb9f-46a0-8d36-007c9b4be17c",
   "metadata": {},
   "source": [
    "The Random Forest Classifier does pretty well without overfitting, is popular, and is simple, so this will be explore more deeply."
   ]
  },
  {
   "cell_type": "code",
   "execution_count": 36,
   "id": "da32c119-28bd-4bb6-b751-519b46ec7ba7",
   "metadata": {},
   "outputs": [
    {
     "data": {
      "text/plain": [
       "RandomForestClassifier(n_jobs=-1)"
      ]
     },
     "execution_count": 36,
     "metadata": {},
     "output_type": "execute_result"
    }
   ],
   "source": [
    "model = RandomForestClassifier(n_jobs=-1)\n",
    "model.fit(X_train, y_train)"
   ]
  },
  {
   "cell_type": "code",
   "execution_count": 37,
   "id": "2919b725-dc64-4e33-b5ce-b376c2de2389",
   "metadata": {},
   "outputs": [
    {
     "name": "stdout",
     "output_type": "stream",
     "text": [
      "0.83\n"
     ]
    }
   ],
   "source": [
    "print(model.score(X_test, y_test))"
   ]
  },
  {
   "cell_type": "code",
   "execution_count": 38,
   "id": "abe845dd-877c-459b-98d2-1a47097a7c5b",
   "metadata": {},
   "outputs": [
    {
     "data": {
      "text/plain": [
       "array([0.00792905, 0.96956812, 0.00428498, 0.00272891, 0.00890064,\n",
       "       0.00206232, 0.00452599])"
      ]
     },
     "execution_count": 38,
     "metadata": {},
     "output_type": "execute_result"
    }
   ],
   "source": [
    "model.feature_importances_"
   ]
  },
  {
   "cell_type": "code",
   "execution_count": 39,
   "id": "aae2f016-ca9b-4180-9c39-c330fc73a9cd",
   "metadata": {},
   "outputs": [],
   "source": [
    "weights = pd.DataFrame(list(zip(model.feature_names_in_, model.feature_importances_)), columns=['feature', 'coefficient']).sort_values(by='coefficient', axis=0, ascending=False).reset_index().drop(columns='index')"
   ]
  },
  {
   "cell_type": "code",
   "execution_count": 40,
   "id": "99972b72-53b1-47b5-a3af-478bf9cb76d0",
   "metadata": {},
   "outputs": [
    {
     "data": {
      "text/html": [
       "<div>\n",
       "<style scoped>\n",
       "    .dataframe tbody tr th:only-of-type {\n",
       "        vertical-align: middle;\n",
       "    }\n",
       "\n",
       "    .dataframe tbody tr th {\n",
       "        vertical-align: top;\n",
       "    }\n",
       "\n",
       "    .dataframe thead th {\n",
       "        text-align: right;\n",
       "    }\n",
       "</style>\n",
       "<table border=\"1\" class=\"dataframe\">\n",
       "  <thead>\n",
       "    <tr style=\"text-align: right;\">\n",
       "      <th></th>\n",
       "      <th>feature</th>\n",
       "      <th>coefficient</th>\n",
       "    </tr>\n",
       "  </thead>\n",
       "  <tbody>\n",
       "    <tr>\n",
       "      <th>0</th>\n",
       "      <td>org_id</td>\n",
       "      <td>0.969568</td>\n",
       "    </tr>\n",
       "    <tr>\n",
       "      <th>1</th>\n",
       "      <td>creation_source_PERSONAL_PROJECTS</td>\n",
       "      <td>0.008901</td>\n",
       "    </tr>\n",
       "    <tr>\n",
       "      <th>2</th>\n",
       "      <td>enabled_for_marketing_drip</td>\n",
       "      <td>0.007929</td>\n",
       "    </tr>\n",
       "    <tr>\n",
       "      <th>3</th>\n",
       "      <td>creation_source_SIGNUP_GOOGLE_AUTH</td>\n",
       "      <td>0.004526</td>\n",
       "    </tr>\n",
       "    <tr>\n",
       "      <th>4</th>\n",
       "      <td>creation_source_GUEST_INVITE</td>\n",
       "      <td>0.004285</td>\n",
       "    </tr>\n",
       "    <tr>\n",
       "      <th>5</th>\n",
       "      <td>creation_source_ORG_INVITE</td>\n",
       "      <td>0.002729</td>\n",
       "    </tr>\n",
       "    <tr>\n",
       "      <th>6</th>\n",
       "      <td>creation_source_SIGNUP</td>\n",
       "      <td>0.002062</td>\n",
       "    </tr>\n",
       "  </tbody>\n",
       "</table>\n",
       "</div>"
      ],
      "text/plain": [
       "                              feature  coefficient\n",
       "0                              org_id     0.969568\n",
       "1   creation_source_PERSONAL_PROJECTS     0.008901\n",
       "2          enabled_for_marketing_drip     0.007929\n",
       "3  creation_source_SIGNUP_GOOGLE_AUTH     0.004526\n",
       "4        creation_source_GUEST_INVITE     0.004285\n",
       "5          creation_source_ORG_INVITE     0.002729\n",
       "6              creation_source_SIGNUP     0.002062"
      ]
     },
     "execution_count": 40,
     "metadata": {},
     "output_type": "execute_result"
    }
   ],
   "source": [
    "weights"
   ]
  },
  {
   "cell_type": "code",
   "execution_count": 41,
   "id": "33b1a089-a535-460f-88b3-ec97ea891bfe",
   "metadata": {},
   "outputs": [],
   "source": [
    "y_pred = model.predict(X_test)"
   ]
  },
  {
   "cell_type": "code",
   "execution_count": 42,
   "id": "03faa23f-d191-40de-aedd-d3b74dc18d58",
   "metadata": {},
   "outputs": [
    {
     "data": {
      "image/png": "[encoded data removed]",
      "text/plain": [
       "<Figure size 936x936 with 2 Axes>"
      ]
     },
     "metadata": {
      "needs_background": "light"
     },
     "output_type": "display_data"
    }
   ],
   "source": [
    "from sklearn.metrics import confusion_matrix\n",
    "from sklearn.metrics import ConfusionMatrixDisplay\n",
    "cm = confusion_matrix(y_test,y_pred)\n",
    "disp = ConfusionMatrixDisplay(confusion_matrix=cm)\n",
    "fig, ax = plt.subplots(figsize=(13,13))\n",
    "disp.plot(ax=ax)\n",
    "plt.tick_params(axis=u'both', which=u'both', length=0)\n",
    "plt.xticks(ticks=range(0, 2), labels=model.classes_)\n",
    "plt.yticks(ticks=range(0, 2), labels=model.classes_)\n",
    "plt.grid(False)\n",
    "\n",
    "plt.savefig('confusion_matrix.png')\n",
    "plt.show()"
   ]
  },
  {
   "cell_type": "markdown",
   "id": "85c464b8-e280-40d8-8c47-e6d57f3f019b",
   "metadata": {},
   "source": [
    "# Result\n",
    "\n",
    "Overwhelmingly, the organization a user belongs to predicts engagement. To grow more users, Relax, Inc. should focus on features that aid organizational workflows. Secondly, users who sign up to work on personal projects also remain somewhat engaged but with plenty of room to grow, so this could be a high-impact focus group when driving new retention."
   ]
  },
  {
   "cell_type": "code",
   "execution_count": null,
   "id": "5f61261f-af09-4405-9538-c86fced938cd",
   "metadata": {},
   "outputs": [],
   "source": []
  }
 ],
 "metadata": {
  "kernelspec": {
   "display_name": "Python 3 (ipykernel)",
   "language": "python",
   "name": "python3"
  },
  "language_info": {
   "codemirror_mode": {
    "name": "ipython",
    "version": 3
   },
   "file_extension": ".py",
   "mimetype": "text/x-python",
   "name": "python",
   "nbconvert_exporter": "python",
   "pygments_lexer": "ipython3",
   "version": "3.8.12"
  }
 },
 "nbformat": 4,
 "nbformat_minor": 5
}
